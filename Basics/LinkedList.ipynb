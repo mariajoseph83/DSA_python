{
  "cells": [
    {
      "cell_type": "markdown",
      "metadata": {
        "id": "view-in-github",
        "colab_type": "text"
      },
      "source": [
        "<a href=\"https://colab.research.google.com/github/mariajoseph83/DSA_python/blob/main/Basics/LinkedList.ipynb\" target=\"_parent\"><img src=\"https://colab.research.google.com/assets/colab-badge.svg\" alt=\"Open In Colab\"/></a>"
      ]
    },
    {
      "cell_type": "code",
      "execution_count": null,
      "metadata": {
        "id": "K6dz4ifaLZIM"
      },
      "outputs": [],
      "source": [
        "# creating a Node\n",
        "class Node:\n",
        "  def __init__(self,data):\n",
        "    self.data=data\n",
        "    self.next=None\n",
        "\n",
        "# creating a Linked list\n",
        "class Linkedlist:\n",
        "# intitializing head to None it is done because we need a variable head to point the beginning of the linked list\n",
        "  def __init__(self):\n",
        "    self.head=None\n",
        "\n",
        "#Inserting of node at the end for the linked list\n",
        "  def insert_last(self,data):\n",
        "    insert_element=Node(data)\n",
        "    if self.head==None:\n",
        "      self.head=insert_element\n",
        "      return\n",
        "    temp=self.head\n",
        "    while temp.next!=None:\n",
        "      temp=temp.next\n",
        "    temp.next=insert_element\n",
        "\n",
        "# Print the elements in the Linked list\n",
        "  def printLL(self):\n",
        "    temp=self.head\n",
        "    while temp.next!=None:\n",
        "      print(temp.data,end=\"-->\")\n",
        "      temp=temp.next\n",
        "    print(temp.data)\n",
        "\n",
        "##insertion of node at Beginning\n",
        "  def insert_first(self,data):\n",
        "    new_node=Node(data)\n",
        "    if self.head==None:\n",
        "      self.head=new_node\n",
        "    temp=self.head\n",
        "    new_node.next=temp\n",
        "    self.head=new_node\n",
        "\n",
        "# Inssertion at specific Position\n",
        "  def insert_position(self,data,idx):\n",
        "    new_node=Node(data)\n",
        "    if self.head==None:\n",
        "      if idx>=0:\n",
        "        return False\n",
        "      self.head=new_node\n",
        "    temp=self.head\n",
        "    for i in range(0,idx-2): # it is like before the position and my index starts from 1\n",
        "      temp=temp.next\n",
        "    new_node.next=temp.next\n",
        "    temp.next=new_node\n",
        "\n",
        "# Removing Node From the End\n",
        "  def remove_last(self):\n",
        "    if self.head==None:\n",
        "      return \"No nodes\"\n",
        "    temp=self.head\n",
        "    while temp.next.next!=None:\n",
        "      temp=temp.next\n",
        "    temp.next=None\n",
        "\n",
        "# Removing Node at Beginning\n",
        "  def remove_first(self):\n",
        "    if self.head==None:\n",
        "      return \"No nodes\"\n",
        "    temp=self.head\n",
        "    self.head=temp.next\n",
        "    temp.next=None\n",
        "    del temp\n",
        "\n",
        " # Removing Node from a specific Position\n",
        "  def remove_position(self,idx):\n",
        "    if self.head==None or idx==0: # my indexing start from 1\n",
        "      return \"No Nodes\"\n",
        "    temp=self.head\n",
        "    if idx==1:\n",
        "      return self.remove_first()\n",
        "    for i in range(idx-1): # if you take as index from 0 then no need of -1\n",
        "      if temp==None:\n",
        "        return \"Out of index\"\n",
        "      a=temp\n",
        "      temp=temp.next\n",
        "    a.next=temp.next\n",
        "    del temp\n",
        "\n",
        "#Reversing the linked List without Recursion\n",
        "  def reverse(self):\n",
        "    pre,curr=None,self.head\n",
        "    while curr:\n",
        "      nxt=curr.next\n",
        "      curr.next=pre\n",
        "      pre=curr\n",
        "      curr=nxt\n",
        "    self.head=pre\n",
        "    a.printLL()"
      ]
    },
    {
      "cell_type": "code",
      "execution_count": null,
      "metadata": {
        "colab": {
          "base_uri": "https://localhost:8080/"
        },
        "id": "KJn4B2-gLupE",
        "outputId": "f71869d7-1f25-4966-e089-11eba0a512d4"
      },
      "outputs": [
        {
          "output_type": "stream",
          "name": "stdout",
          "text": [
            "7-->23-->28-->8-->4\n"
          ]
        }
      ],
      "source": [
        "a=Linkedlist()\n",
        "\n",
        "a.insert_last(6)\n",
        "a.insert_first(7)\n",
        "a.insert_last(8)\n",
        "a.insert_position(28,3)\n",
        "a.insert_last(4)\n",
        "a.insert_first(1)\n",
        "a.insert_position(23,3)\n",
        "a.insert_last(6)\n",
        "a.remove_last()\n",
        "a.remove_first()\n",
        "a.remove_position(3)\n",
        "\n",
        "a.printLL()\n",
        "\n"
      ]
    }
  ],
  "metadata": {
    "colab": {
      "provenance": [],
      "authorship_tag": "ABX9TyMvOX0IxMIs51ufHINFLm77",
      "include_colab_link": true
    },
    "kernelspec": {
      "display_name": "Python 3",
      "name": "python3"
    },
    "language_info": {
      "name": "python"
    }
  },
  "nbformat": 4,
  "nbformat_minor": 0
}