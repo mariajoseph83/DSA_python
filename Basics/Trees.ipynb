{
  "nbformat": 4,
  "nbformat_minor": 0,
  "metadata": {
    "colab": {
      "provenance": [],
      "authorship_tag": "ABX9TyNR8nNLTw5/sOOW8huxMnCj",
      "include_colab_link": true
    },
    "kernelspec": {
      "name": "python3",
      "display_name": "Python 3"
    },
    "language_info": {
      "name": "python"
    }
  },
  "cells": [
    {
      "cell_type": "markdown",
      "metadata": {
        "id": "view-in-github",
        "colab_type": "text"
      },
      "source": [
        "<a href=\"https://colab.research.google.com/github/mariajoseph83/DSA_python/blob/main/Basics/Trees.ipynb\" target=\"_parent\"><img src=\"https://colab.research.google.com/assets/colab-badge.svg\" alt=\"Open In Colab\"/></a>"
      ]
    },
    {
      "cell_type": "code",
      "execution_count": null,
      "metadata": {
        "id": "8DP7j_-wKcOo"
      },
      "outputs": [],
      "source": [
        "class TNode:\n",
        "  def __init__(self,data):\n",
        "    self.left=None\n",
        "    self.root=data\n",
        "    self.right=None"
      ]
    },
    {
      "cell_type": "code",
      "source": [
        "class Tree:\n",
        "  def __init__(self):\n",
        "    self.root=None\n",
        "  def insert(self,data):\n",
        "    newnode=TNode(data)\n",
        "    if self.root==None:\n",
        "      self.root=newnode\n",
        "      print(f\"{data} is a root node\")\n",
        "      return\n",
        "    temp=self.root\n",
        "    while temp:\n",
        "      if temp.data>=data and temp.left:\n",
        "        temp=temp.left\n",
        "      elif temp.data<data and temp.right:\n",
        "        temp=temp.right\n",
        "      else:\n",
        "        if temp.data>=data:\n",
        "          temp.left=newnode\n",
        "          print(f\"{data} to its left of {temp.data}\")\n",
        "          return\n",
        "        else:\n",
        "          temp.right=newnode\n",
        "          print(f\"{data} to its right of {temp.data}\")\n",
        "          return\n",
        "\n",
        "  def inorder_des(self,tree):\n",
        "    if tree:\n",
        "      self.inorder_des(tree.right)\n",
        "      print(tree.data,end=\" \")\n",
        "      self.inorder_des(tree.left)\n",
        "\n",
        "  def inorder_asc(self,tree):\n",
        "    if tree:\n",
        "      self.inorder_asc(tree.left)\n",
        "      print(tree.data,end=\" \")\n",
        "      self.inorder_asc(tree.right)\n",
        "\n",
        "  def pre_order(self,tree):\n",
        "    if tree:\n",
        "      print(tree.data,end=\" \")\n",
        "      self.pre_order(tree.left)\n",
        "      self.pre_order(tree.right)\n",
        "\n",
        "  def post_order(self,tree):\n",
        "    if tree:\n",
        "      self.post_order(tree.left)\n",
        "      self.post_order(tree.right)\n",
        "      print(tree.data,end=\" \")\n",
        "  def search(self,data):\n",
        "    if self.root:\n",
        "      temp=self.root\n",
        "      while temp:\n",
        "        if temp.data==data:\n",
        "          print(f\"{data} is found {temp.data}\")\n",
        "          return\n",
        "        elif temp.data>data:\n",
        "          temp=temp.left\n",
        "        else:\n",
        "          temp=temp.right\n",
        "      else:\n",
        "        print(f\"{data} not found\")\n",
        "    else:\n",
        "      print(f\"Tree is empty\")\n",
        "\n",
        "  def dellast(self,data):\n",
        "    if self.root:\n",
        "      temp=self.root\n",
        "      while temp:\n",
        "        if temp.data==data:\n",
        "          if temp1.left==temp:\n",
        "            temp1.left=None\n",
        "          else:\n",
        "            temp1.right=None\n",
        "          print(f\"{data} is found {temp.data}\")\n",
        "          return\n",
        "        temp1=temp\n",
        "        if temp.data>data:\n",
        "          temp=temp.left\n",
        "        else:\n",
        "          temp=temp.right\n",
        "      else:\n",
        "        print(f\"{data} not found\")\n",
        "    else:\n",
        "      print(f\"Tree is empty\")\n",
        "\n",
        "  def BFS(self,root):\n",
        "    ll=[]\n",
        "    queue=collections.deque()\n",
        "    if root:\n",
        "      queue.append(root)\n",
        "    while queue:\n",
        "      size=len(queue)\n",
        "      l=[]\n",
        "      for i in range(size):\n",
        "        key=queue.popleft()\n",
        "        if key.left:\n",
        "          queue.append(key.left)\n",
        "        if key.right:\n",
        "          queue.append(key.right)\n",
        "        l.append(key.val)\n",
        "      ll.append(l)\n",
        "    return ll\n",
        "\n"
      ],
      "metadata": {
        "id": "Zq4Mvl4mqq9L"
      },
      "execution_count": null,
      "outputs": []
    },
    {
      "cell_type": "code",
      "source": [],
      "metadata": {
        "id": "1n6hGD8nqq_u"
      },
      "execution_count": null,
      "outputs": []
    },
    {
      "cell_type": "markdown",
      "source": [
        "Binary Trees"
      ],
      "metadata": {
        "id": "CzjVG2nwLFsd"
      }
    },
    {
      "cell_type": "code",
      "source": [
        "from collections import deque"
      ],
      "metadata": {
        "id": "89evOW_AqrCM"
      },
      "execution_count": null,
      "outputs": []
    },
    {
      "cell_type": "code",
      "source": [
        "class Treenode:\n",
        "  def __init__(self,val,left=None,right=None):\n",
        "    self.val=val\n",
        "    self.left=left\n",
        "    self.right=right"
      ],
      "metadata": {
        "id": "-bzEx65HqrEy"
      },
      "execution_count": null,
      "outputs": []
    },
    {
      "cell_type": "code",
      "source": [
        "root=Treenode(7)\n",
        "root.left=Treenode(9)\n",
        "root.right=Treenode(8)\n",
        "root.left.left=Treenode(1)\n",
        "#root.left.left.right=Treenode(4)\n",
        "#root.left.left.right.right=Treenode(5)\n",
        "root.left.right=Treenode(3)\n",
        "root.right.left=Treenode(2)\n",
        "root.right.right=Treenode(11)"
      ],
      "metadata": {
        "id": "yo_GSEcVKGz3"
      },
      "execution_count": null,
      "outputs": []
    },
    {
      "cell_type": "code",
      "source": [
        "def BFS(root):\n",
        "    ll=[]\n",
        "    queue=deque()\n",
        "    if root:\n",
        "      queue.append(root)\n",
        "    else:\n",
        "      return [[]]\n",
        "    while queue:\n",
        "      size=len(queue)\n",
        "      l=[]\n",
        "      for i in range(size):\n",
        "        key=queue.popleft()\n",
        "        if key.left:\n",
        "          queue.append(key.left)\n",
        "        if key.right:\n",
        "          queue.append(key.right)\n",
        "        l.append(key.val)\n",
        "      ll.append(l)\n",
        "    return ll"
      ],
      "metadata": {
        "id": "140ZvZlgqrHL"
      },
      "execution_count": null,
      "outputs": []
    },
    {
      "cell_type": "markdown",
      "source": [
        "Depth For search"
      ],
      "metadata": {
        "id": "4AdxU5clLxAB"
      }
    },
    {
      "cell_type": "code",
      "source": [
        "def Pre_order(root):\n",
        "  if root:\n",
        "    print(root.val,end=\" \")\n",
        "    Pre_order(root.left)\n",
        "    Pre_order(root.right)"
      ],
      "metadata": {
        "id": "yFbLGKC_qrI6"
      },
      "execution_count": null,
      "outputs": []
    },
    {
      "cell_type": "code",
      "source": [
        "Pre_order(root)"
      ],
      "metadata": {
        "id": "nhYTqm-fzsSf",
        "colab": {
          "base_uri": "https://localhost:8080/"
        },
        "outputId": "18b028ae-9d5a-448a-b5e7-cac89cc89e5d"
      },
      "execution_count": null,
      "outputs": [
        {
          "output_type": "stream",
          "name": "stdout",
          "text": [
            "7 9 1 3 8 2 11 "
          ]
        }
      ]
    },
    {
      "cell_type": "code",
      "source": [
        "def Post_order(root):\n",
        "  if root:\n",
        "    Post_order(root.left)\n",
        "    Post_order(root.right)\n",
        "    print(root.val,end=\" \")\n"
      ],
      "metadata": {
        "id": "ydT6tnzVqrMf"
      },
      "execution_count": null,
      "outputs": []
    },
    {
      "cell_type": "code",
      "source": [
        "Post_order(root)"
      ],
      "metadata": {
        "colab": {
          "base_uri": "https://localhost:8080/"
        },
        "id": "0c9OWIsq0-9A",
        "outputId": "d1aeb553-0e24-4393-8b71-c07c1ea10aef"
      },
      "execution_count": null,
      "outputs": [
        {
          "output_type": "stream",
          "name": "stdout",
          "text": [
            "1 3 9 2 11 8 7 "
          ]
        }
      ]
    },
    {
      "cell_type": "code",
      "source": [
        "def Inorder(root):\n",
        "  if root:\n",
        "    Inorder(root.left)\n",
        "    print(root.val,end=\" \")\n",
        "    Inorder(root.right)"
      ],
      "metadata": {
        "id": "Y-8Qo8Tm1WJD"
      },
      "execution_count": null,
      "outputs": []
    },
    {
      "cell_type": "code",
      "source": [
        "Inorder(root)"
      ],
      "metadata": {
        "colab": {
          "base_uri": "https://localhost:8080/"
        },
        "id": "s1Lr3YLy19-K",
        "outputId": "5a69773b-bac6-4c63-c11b-2e5721b9e353"
      },
      "execution_count": null,
      "outputs": [
        {
          "output_type": "stream",
          "name": "stdout",
          "text": [
            "1 9 3 7 2 8 11 "
          ]
        }
      ]
    },
    {
      "cell_type": "markdown",
      "source": [
        "You need to know upto this then u can practice the patterns in Binary Trees"
      ],
      "metadata": {
        "id": "tgiERnlQ3O3S"
      }
    },
    {
      "cell_type": "code",
      "source": [
        "def Iterative_preorder(root):\n",
        "  stack=[]\n",
        "  preorder_list=[]\n",
        "  if root:\n",
        "    stack.append(root)\n",
        "  else:\n",
        "    return [[]]\n",
        "  while stack:\n",
        "    key=stack.pop()\n",
        "    if key.right:\n",
        "      stack.append(key.right)\n",
        "    if key.left:\n",
        "      stack.append(key.left)\n",
        "    preorder_list.append(key.val)\n",
        "  print(preorder_list)"
      ],
      "metadata": {
        "id": "wGbUpLjYCBnc"
      },
      "execution_count": null,
      "outputs": []
    },
    {
      "cell_type": "code",
      "source": [
        "Iterative_preorder(root)"
      ],
      "metadata": {
        "colab": {
          "base_uri": "https://localhost:8080/"
        },
        "id": "rLigtUZ3_Vfq",
        "outputId": "87f7e538-308d-4338-c740-ee7fc5307ca2"
      },
      "execution_count": null,
      "outputs": [
        {
          "output_type": "stream",
          "name": "stdout",
          "text": [
            "[7, 9, 1, 3, 8, 2, 11]\n"
          ]
        }
      ]
    },
    {
      "cell_type": "code",
      "source": [
        "def Iterative_inorder(root):\n",
        "  stack=[]\n",
        "  Inorder_list=[]\n",
        "  temp=root\n",
        "  while True:\n",
        "    if temp is not None:\n",
        "      stack.append(temp)\n",
        "      temp=temp.left\n",
        "    else:\n",
        "      if stack:\n",
        "        temp=stack.pop()\n",
        "        Inorder_list.append(temp.val)\n",
        "        temp=temp.right\n",
        "      else:\n",
        "        break\n",
        "  print(Inorder_list)"
      ],
      "metadata": {
        "id": "rhp7Z4LGgwXE"
      },
      "execution_count": null,
      "outputs": []
    },
    {
      "cell_type": "code",
      "source": [
        "Iterative_inorder(root)"
      ],
      "metadata": {
        "id": "d6VeaDW3iOET",
        "colab": {
          "base_uri": "https://localhost:8080/"
        },
        "outputId": "b032af89-0f00-465b-bf28-d6b557c1c3de"
      },
      "execution_count": null,
      "outputs": [
        {
          "output_type": "stream",
          "name": "stdout",
          "text": [
            "[1, 9, 3, 7, 2, 8, 11]\n"
          ]
        }
      ]
    },
    {
      "cell_type": "code",
      "source": [
        "def Iterative_postorder(root):\n",
        "  stack1,stack2=[],[]\n",
        "  if root:\n",
        "    stack1.append(root)\n",
        "  while stack1:\n",
        "    key=stack1.pop()\n",
        "    if key.left:\n",
        "      stack1.append(key.left)\n",
        "    if key.right:\n",
        "      stack1.append(key.right)\n",
        "    stack2.append(key.val)\n",
        "  print(stack2[::-1])"
      ],
      "metadata": {
        "id": "nSmbOZmujPKd"
      },
      "execution_count": null,
      "outputs": []
    },
    {
      "cell_type": "code",
      "source": [
        "Iterative_postorder(root)"
      ],
      "metadata": {
        "id": "-ydA78GQtMf-",
        "colab": {
          "base_uri": "https://localhost:8080/"
        },
        "outputId": "f63223ba-cf00-47d8-df9b-648ade5a2f10"
      },
      "execution_count": null,
      "outputs": [
        {
          "output_type": "stream",
          "name": "stdout",
          "text": [
            "[1, 3, 9, 2, 11, 8, 7]\n"
          ]
        }
      ]
    },
    {
      "cell_type": "code",
      "source": [
        "stack_val=[]"
      ],
      "metadata": {
        "id": "XdhmLkFvUID0"
      },
      "execution_count": null,
      "outputs": []
    },
    {
      "cell_type": "code",
      "source": [
        "def Iterative_1postorder(root):\n",
        "  stack=[]\n",
        "  stack_val=[]\n",
        "  post=[]\n",
        "  curr=root.left\n",
        "  stack.append(root)\n",
        "  stack_val.append(root.val)\n",
        "  while stack:\n",
        "    if curr is not None:\n",
        "      stack.append(curr)\n",
        "      stack_val.append(curr.val)\n",
        "      curr=curr.left\n",
        "      print(stack_val)\n",
        "    else:\n",
        "      if stack[-1].right:\n",
        "        curr=stack[-1].right\n",
        "      else:\n",
        "        temp=stack.pop()\n",
        "        post.append(temp.val)\n",
        "        while stack and temp==stack[-1].right:\n",
        "          temp=stack.pop()\n",
        "          post.append(temp.val)\n",
        "  return post"
      ],
      "metadata": {
        "id": "WL8sCPi2jGSm"
      },
      "execution_count": null,
      "outputs": []
    },
    {
      "cell_type": "code",
      "source": [
        "Iterative_1postorder(root)"
      ],
      "metadata": {
        "id": "h9lVaTydKycZ",
        "colab": {
          "base_uri": "https://localhost:8080/"
        },
        "outputId": "78094e9e-fe63-435b-823f-556c1164a7fc"
      },
      "execution_count": null,
      "outputs": [
        {
          "output_type": "stream",
          "name": "stdout",
          "text": [
            "[7, 9]\n",
            "[7, 9, 1]\n",
            "[7, 9, 1, 3]\n",
            "[7, 9, 1, 3, 8]\n",
            "[7, 9, 1, 3, 8, 2]\n",
            "[7, 9, 1, 3, 8, 2, 11]\n"
          ]
        },
        {
          "output_type": "execute_result",
          "data": {
            "text/plain": [
              "[1, 3, 9, 2, 11, 8, 7]"
            ]
          },
          "metadata": {},
          "execution_count": 55
        }
      ]
    },
    {
      "cell_type": "code",
      "source": [
        "stack_val"
      ],
      "metadata": {
        "id": "JLYLC2Pu09hr",
        "colab": {
          "base_uri": "https://localhost:8080/"
        },
        "outputId": "050b2562-aadf-47df-8718-2f715198a318"
      },
      "execution_count": null,
      "outputs": [
        {
          "output_type": "execute_result",
          "data": {
            "text/plain": [
              "[9, 1, 3, 8, 2, 11]"
            ]
          },
          "metadata": {},
          "execution_count": 56
        }
      ]
    },
    {
      "cell_type": "markdown",
      "source": [
        "Pre, In , Post Order in single iteration"
      ],
      "metadata": {
        "id": "MX7nkjePZJnN"
      }
    },
    {
      "cell_type": "code",
      "source": [
        "def IPP(root):\n",
        "  stack=[]\n",
        "  In,pre,post=[],[],[]\n",
        "  stack.append([root,1])\n",
        "  while stack:\n",
        "    i,j=stack[-1]\n",
        "    if j==1:\n",
        "      stack[-1][1]=j+1\n",
        "      pre.append(i.val)\n",
        "      if i.left:\n",
        "        stack.append([i.left,1])\n",
        "    elif j==2:\n",
        "      stack[-1][1]=j+1\n",
        "      In.append(i.val)\n",
        "      if i.right:\n",
        "        stack.append([i.right,1])\n",
        "    else:\n",
        "      post.append(stack.pop()[0].val)\n",
        "  print(In)\n",
        "  print(pre)\n",
        "  print(post)"
      ],
      "metadata": {
        "id": "r7TMrbPYOevs"
      },
      "execution_count": null,
      "outputs": []
    },
    {
      "cell_type": "code",
      "source": [
        "IPP(root)"
      ],
      "metadata": {
        "colab": {
          "base_uri": "https://localhost:8080/"
        },
        "id": "117xJXH7lRKE",
        "outputId": "27079519-cbb4-4f73-8a6c-3eb7f6c63a9f"
      },
      "execution_count": null,
      "outputs": [
        {
          "output_type": "stream",
          "name": "stdout",
          "text": [
            "[1, 9, 3, 7, 2, 8, 11]\n",
            "[7, 9, 1, 3, 8, 2, 11]\n",
            "[1, 3, 9, 2, 11, 8, 7]\n"
          ]
        }
      ]
    },
    {
      "cell_type": "code",
      "source": [
        "def maxdepth(root):\n",
        "  if root:\n",
        "    return 1 + max(maxdepth(root.left),maxdepth(root.right))\n",
        "  return 0"
      ],
      "metadata": {
        "id": "m4UG9CraOhMb"
      },
      "execution_count": null,
      "outputs": []
    },
    {
      "cell_type": "code",
      "source": [
        "maxdepth(root)"
      ],
      "metadata": {
        "id": "J1O4EdZkOlOW",
        "colab": {
          "base_uri": "https://localhost:8080/"
        },
        "outputId": "c38d5b94-d7e7-4319-d8d4-d91ab9ab443a"
      },
      "execution_count": null,
      "outputs": [
        {
          "output_type": "execute_result",
          "data": {
            "text/plain": [
              "3"
            ]
          },
          "metadata": {},
          "execution_count": 24
        }
      ]
    },
    {
      "cell_type": "code",
      "source": [
        "def checkifbalanced(root):\n",
        "  if root:\n",
        "    leftle=checkifbalanced(root.left)\n",
        "    rightle=checkifbalanced(root.right)\n",
        "    if abs(leftle-rightle)>1:\n",
        "      return False\n",
        "    else:\n",
        "      return max(leftle,rightle)+1\n",
        "  return 0"
      ],
      "metadata": {
        "id": "WWSS4eerR8_U"
      },
      "execution_count": null,
      "outputs": []
    },
    {
      "cell_type": "code",
      "source": [
        "a=checkifbalanced(root)\n",
        "print(a)"
      ],
      "metadata": {
        "id": "Z-EGr6JCWKyW",
        "colab": {
          "base_uri": "https://localhost:8080/"
        },
        "outputId": "b551cda3-c1bc-4027-c73b-0b4d9757e3ef"
      },
      "execution_count": null,
      "outputs": [
        {
          "output_type": "stream",
          "name": "stdout",
          "text": [
            "7\n",
            "9\n",
            "1\n",
            "3\n",
            "8\n",
            "2\n",
            "11\n",
            "False\n"
          ]
        }
      ]
    },
    {
      "cell_type": "code",
      "source": [
        "root=Treenode(7)\n",
        "root.left=Treenode(9)\n",
        "root.right=Treenode(8)\n",
        "root.left.left=Treenode(1)\n",
        "root.left.left.right=Treenode(4)\n",
        "root.left.left.right.right=Treenode(5)\n",
        "root.left.right=Treenode(3)\n",
        "root.right.left=Treenode(2)\n",
        "root.right.left.left=Treenode(15)\n",
        "#root.right.left.left=Treenode(25)\n",
        "root.right.left.right=Treenode(8)\n",
        "root.right.right=Treenode(11)\n",
        "root.right.right.left=Treenode(21)"
      ],
      "metadata": {
        "id": "OBebaXcNwpHE"
      },
      "execution_count": null,
      "outputs": []
    },
    {
      "cell_type": "markdown",
      "source": [
        "Diameter of a tree\n",
        "\n",
        "1) longest path between two nodes\n",
        "\n",
        "2) Might no be passing through root node\n",
        "\n",
        "3) simply it is the length of right sub tree + left subtree"
      ],
      "metadata": {
        "id": "209-djInBpZv"
      }
    },
    {
      "cell_type": "code",
      "source": [
        "max1 = 0  # Define global variable max1\n",
        "\n",
        "def dia_tree(root):\n",
        "    global max1  # Access the global variable\n",
        "\n",
        "    if root:\n",
        "        left_length = dia_tree(root.left)\n",
        "        right_length = dia_tree(root.right)\n",
        "        diameter = left_length + right_length\n",
        "        max1 = max(max1, diameter)\n",
        "        print(f\"Diameter of {root.val} is {diameter}\")\n",
        "        return 1 + max(left_length, right_length)\n",
        "    else:\n",
        "        return 0\n"
      ],
      "metadata": {
        "id": "MVx1y5rKSmVC"
      },
      "execution_count": null,
      "outputs": []
    },
    {
      "cell_type": "code",
      "source": [
        "dia_tree(root)"
      ],
      "metadata": {
        "id": "Drhco59SXQx9",
        "colab": {
          "base_uri": "https://localhost:8080/"
        },
        "outputId": "eaf55993-3a00-47de-f616-faddf1959584"
      },
      "execution_count": null,
      "outputs": [
        {
          "output_type": "stream",
          "name": "stdout",
          "text": [
            "Diameter of 5 is 0\n",
            "Diameter of 4 is 1\n",
            "Diameter of 1 is 2\n",
            "Diameter of 3 is 0\n",
            "Diameter of 9 is 4\n",
            "Diameter of 2 is 0\n",
            "Diameter of 11 is 0\n",
            "Diameter of 8 is 2\n",
            "Diameter of 7 is 6\n"
          ]
        },
        {
          "output_type": "execute_result",
          "data": {
            "text/plain": [
              "5"
            ]
          },
          "metadata": {},
          "execution_count": 29
        }
      ]
    },
    {
      "cell_type": "code",
      "source": [
        "print(max1)"
      ],
      "metadata": {
        "id": "da6-5ACFVbZc",
        "colab": {
          "base_uri": "https://localhost:8080/"
        },
        "outputId": "987cc98a-29e5-4ab0-c106-3ad9066ff624"
      },
      "execution_count": null,
      "outputs": [
        {
          "output_type": "stream",
          "name": "stdout",
          "text": [
            "6\n"
          ]
        }
      ]
    },
    {
      "cell_type": "markdown",
      "source": [
        "Maximum path sum\n"
      ],
      "metadata": {
        "id": "FSxMi-2Fe-Hk"
      }
    },
    {
      "cell_type": "code",
      "source": [
        "max1=0\n",
        "def mps(root):\n",
        "  global max1\n",
        "  if root:\n",
        "    lps=mps(root.left)\n",
        "    rps=mps(root.right)\n",
        "    max1=max(max1,root.val+lps+rps) # its like a diameter\n",
        "    print(f\"the path sum of {root.val} is {max1}\")\n",
        "    return root.val+max(lps,rps)\n",
        "  else:\n",
        "    return 0"
      ],
      "metadata": {
        "id": "vqI37Ocmc1Te"
      },
      "execution_count": null,
      "outputs": []
    },
    {
      "cell_type": "code",
      "source": [
        "mps(root)\n",
        "# max path is 5-4-1-9-7-8-11-21\n",
        "# max path is 25-2-8-11-21"
      ],
      "metadata": {
        "id": "JGhgUh4qE2D6",
        "colab": {
          "base_uri": "https://localhost:8080/"
        },
        "outputId": "166eaa37-31c0-4ee7-c2bd-ceef081fffd6"
      },
      "execution_count": null,
      "outputs": [
        {
          "output_type": "stream",
          "name": "stdout",
          "text": [
            "the path sum of 5 is 5\n",
            "the path sum of 4 is 9\n",
            "the path sum of 1 is 10\n",
            "the path sum of 3 is 10\n",
            "the path sum of 9 is 22\n",
            "the path sum of 25 is 25\n",
            "the path sum of 8 is 25\n",
            "the path sum of 2 is 35\n",
            "the path sum of 21 is 35\n",
            "the path sum of 11 is 35\n",
            "the path sum of 8 is 67\n",
            "the path sum of 7 is 67\n"
          ]
        },
        {
          "output_type": "execute_result",
          "data": {
            "text/plain": [
              "47"
            ]
          },
          "metadata": {},
          "execution_count": 49
        }
      ]
    },
    {
      "cell_type": "code",
      "source": [
        "print(max1)"
      ],
      "metadata": {
        "id": "hRa4_53OFgJv",
        "colab": {
          "base_uri": "https://localhost:8080/"
        },
        "outputId": "5842c6eb-4337-4ad5-ce38-0b406f96b597"
      },
      "execution_count": null,
      "outputs": [
        {
          "output_type": "stream",
          "name": "stdout",
          "text": [
            "67\n"
          ]
        }
      ]
    },
    {
      "cell_type": "code",
      "source": [
        "print({1,2,3}=={3,2,1})"
      ],
      "metadata": {
        "id": "HlQYMXP2JIhQ",
        "colab": {
          "base_uri": "https://localhost:8080/"
        },
        "outputId": "18ad43b9-0bea-442a-ff82-e191d77913f5"
      },
      "execution_count": null,
      "outputs": [
        {
          "output_type": "stream",
          "name": "stdout",
          "text": [
            "True\n"
          ]
        }
      ]
    },
    {
      "cell_type": "markdown",
      "source": [
        "Similar trees\n"
      ],
      "metadata": {
        "id": "8IQYHC76DZ4w"
      }
    },
    {
      "cell_type": "code",
      "source": [
        "root1=Treenode(7)\n",
        "root1.left=Treenode(9)\n",
        "root1.right=Treenode(8)\n",
        "root1.left.left=Treenode(1)\n",
        "root1.left.left.right=Treenode(4)\n",
        "root1.left.left.right.right=Treenode(5)"
      ],
      "metadata": {
        "id": "ETiT78qsFl54"
      },
      "execution_count": null,
      "outputs": []
    },
    {
      "cell_type": "code",
      "source": [
        "root2=Treenode(7)\n",
        "root2.left=Treenode(9)\n",
        "root2.right=Treenode(8)\n",
        "root2.left.left=Treenode(1)\n",
        "root2.left.left.right=Treenode(4)\n",
        "root2.left.left.right.right=Treenode(5)"
      ],
      "metadata": {
        "id": "LUEGvCBRFvKW"
      },
      "execution_count": null,
      "outputs": []
    },
    {
      "cell_type": "code",
      "source": [
        "def is_similar(root1,root2):\n",
        "  if not root1 and not root2:\n",
        "    return True\n",
        "  elif root1 and root2 and root1.val==root2.val:\n",
        "    return is_similar(root1.left,root2.left) and is_similar(root1.right,root2.right)\n",
        "  return False"
      ],
      "metadata": {
        "id": "qfNoQTAuF4ES"
      },
      "execution_count": null,
      "outputs": []
    },
    {
      "cell_type": "code",
      "source": [
        "a=is_similar(root1,root2)\n",
        "print(a)"
      ],
      "metadata": {
        "id": "2SwB2fJadaWq",
        "colab": {
          "base_uri": "https://localhost:8080/"
        },
        "outputId": "938acff9-f5d8-48ab-e27c-af32b63e60a9"
      },
      "execution_count": null,
      "outputs": [
        {
          "output_type": "stream",
          "name": "stdout",
          "text": [
            "True\n"
          ]
        }
      ]
    },
    {
      "cell_type": "code",
      "source": [
        "l=[1,2,3,4]\n",
        "l.reverse()"
      ],
      "metadata": {
        "id": "gyJagYa2F6Dx"
      },
      "execution_count": null,
      "outputs": []
    },
    {
      "cell_type": "code",
      "source": [
        "l"
      ],
      "metadata": {
        "id": "tn0qp06hdZKx",
        "colab": {
          "base_uri": "https://localhost:8080/"
        },
        "outputId": "fe091870-bf16-4b68-9abf-37fc3026c9a5"
      },
      "execution_count": null,
      "outputs": [
        {
          "output_type": "execute_result",
          "data": {
            "text/plain": [
              "[4, 3, 2, 1]"
            ]
          },
          "metadata": {},
          "execution_count": 48
        }
      ]
    },
    {
      "cell_type": "code",
      "source": [],
      "metadata": {
        "id": "EkGJFLKxcyR7"
      },
      "execution_count": null,
      "outputs": []
    }
  ]
}