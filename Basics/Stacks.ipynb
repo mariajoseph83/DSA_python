{
  "nbformat": 4,
  "nbformat_minor": 0,
  "metadata": {
    "colab": {
      "provenance": [],
      "authorship_tag": "ABX9TyN5/fb3EA4m6FqzBEK6gGCP",
      "include_colab_link": true
    },
    "kernelspec": {
      "name": "python3",
      "display_name": "Python 3"
    },
    "language_info": {
      "name": "python"
    }
  },
  "cells": [
    {
      "cell_type": "markdown",
      "metadata": {
        "id": "view-in-github",
        "colab_type": "text"
      },
      "source": [
        "<a href=\"https://colab.research.google.com/github/mariajoseph83/DSA_python/blob/main/Basics/Stacks.ipynb\" target=\"_parent\"><img src=\"https://colab.research.google.com/assets/colab-badge.svg\" alt=\"Open In Colab\"/></a>"
      ]
    },
    {
      "cell_type": "code",
      "execution_count": null,
      "metadata": {
        "colab": {
          "base_uri": "https://localhost:8080/"
        },
        "id": "-YC0BwAN00_s",
        "outputId": "54b94e0a-8f52-424b-b345-9f337fe481bc"
      },
      "outputs": [
        {
          "output_type": "stream",
          "name": "stdout",
          "text": [
            "[5, 3]\n",
            "2\n",
            "3\n",
            "False\n",
            "5\n",
            "True\n",
            "9\n",
            "3\n",
            "4\n",
            "8\n"
          ]
        }
      ],
      "source": [
        "class StacksArray:\n",
        "\n",
        "    def __init__(self):\n",
        "        self._data = []\n",
        "\n",
        "    def __len__(self):\n",
        "        return len(self._data)\n",
        "\n",
        "    def isempty(self):\n",
        "        return len(self._data) == 0\n",
        "\n",
        "    def push(self, e):\n",
        "        self._data.append(e)\n",
        "\n",
        "    def pop(self):\n",
        "        if self.isempty():\n",
        "            print('Stack is empty')\n",
        "            return\n",
        "        return self._data.pop()\n",
        "\n",
        "    def top(self):\n",
        "        if self.isempty():\n",
        "            print('Stack is empty')\n",
        "            return\n",
        "        return self._data[-1]\n",
        "\n",
        "\n",
        "S = StacksArray()\n",
        "S.push(5)\n",
        "S.push(3)\n",
        "print(S._data)\n",
        "print(len(S))\n",
        "print(S.pop())\n",
        "print(S.isempty())\n",
        "print(S.pop())\n",
        "print(S.isempty())\n",
        "S.push(7)\n",
        "S.push(9)\n",
        "print(S.top())\n",
        "S.push(4)\n",
        "print(len(S))\n",
        "print(S.pop())\n",
        "S.push(6)\n",
        "S.push(8)\n",
        "print(S.pop())\n",
        "\n",
        "\n",
        "\n",
        "\n"
      ]
    },
    {
      "cell_type": "code",
      "source": [
        "print(S._data)"
      ],
      "metadata": {
        "colab": {
          "base_uri": "https://localhost:8080/"
        },
        "id": "fRK2EmlU2idP",
        "outputId": "8e08c9b1-451b-4cfc-f5a9-0679e02d392e"
      },
      "execution_count": null,
      "outputs": [
        {
          "output_type": "stream",
          "name": "stdout",
          "text": [
            "[7, 9, 6]\n"
          ]
        }
      ]
    }
  ]
}