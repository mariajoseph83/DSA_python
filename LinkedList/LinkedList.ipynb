{
  "cells": [
    {
      "cell_type": "markdown",
      "metadata": {
        "id": "view-in-github",
        "colab_type": "text"
      },
      "source": [
        "<a href=\"https://colab.research.google.com/github/mariajoseph83/DSA_python/blob/main/LinkedList/LinkedList.ipynb\" target=\"_parent\"><img src=\"https://colab.research.google.com/assets/colab-badge.svg\" alt=\"Open In Colab\"/></a>"
      ]
    },
    {
      "cell_type": "code",
      "execution_count": null,
      "metadata": {
        "colab": {
          "background_save": true
        },
        "id": "K6dz4ifaLZIM"
      },
      "outputs": [],
      "source": [
        "# creating a Node\n",
        "class Node:\n",
        "  def __init__(self,data):\n",
        "    self.data=data\n",
        "    self.next=None\n",
        "\n",
        "# creating a Linked list\n",
        "class Linkedlist:\n",
        "# intitializing head to None it is done because we need a variable head to point the beginning of the linked list\n",
        "  def __init__(self):\n",
        "    self.head=None\n",
        "\n",
        "#Inserting of node at the end for the linked list\n",
        "  def insert_last(self,data):\n",
        "    insert_element=Node(data)\n",
        "    if self.head==None:\n",
        "      self.head=insert_element\n",
        "      return\n",
        "    temp=self.head\n",
        "    while temp.next!=None:\n",
        "      temp=temp.next\n",
        "    temp.next=insert_element\n",
        "\n",
        "# Print the elements in the Linked list\n",
        "  def printLL(self):\n",
        "    temp=self.head\n",
        "    while temp.next!=None:\n",
        "      print(temp.data,end=\"-->\")\n",
        "      temp=temp.next\n",
        "    print(temp.data)\n",
        "\n",
        "##insertion of node at Beginning\n",
        "  def insert_first(self,data):\n",
        "    new_node=Node(data)\n",
        "    if self.head==None:\n",
        "      self.head=new_node\n",
        "    temp=self.head\n",
        "    new_node.next=temp\n",
        "    self.head=new_node\n",
        "\n",
        "# Inssertion at specific Position\n",
        "  def insert_position(self,data,idx):\n",
        "    new_node=Node(data)\n",
        "    if self.head==None:\n",
        "      if idx>=0:\n",
        "        return False\n",
        "      self.head=new_node\n",
        "    temp=self.head\n",
        "    for i in range(0,idx-2): # it is like before the position and my index starts from 1\n",
        "      temp=temp.next\n",
        "    new_node.next=temp.next\n",
        "    temp.next=new_node\n",
        "\n",
        "# Removing Node From the End\n",
        "  def remove_last(self):\n",
        "    if self.head==None:\n",
        "      return \"No nodes\"\n",
        "    temp=self.head\n",
        "    while temp.next.next!=None:\n",
        "      temp=temp.next\n",
        "    temp.next=None\n",
        "\n",
        "# Removing Node at Beginning\n",
        "  def remove_first(self):\n",
        "    if self.head==None:\n",
        "      return \"No nodes\"\n",
        "    temp=self.head\n",
        "    self.head=temp.next\n",
        "    temp.next=None\n",
        "    del temp\n",
        "\n",
        " # Removing Node from a specific Position\n",
        "  def remove_position(self,idx):\n",
        "    if self.head==None or idx==0: # my indexing start from 1\n",
        "      return \"No Nodes\"\n",
        "    temp=self.head\n",
        "    if idx==1:\n",
        "      return self.remove_first()\n",
        "    for i in range(idx-1): # if you take as index from 0 then no need of -1\n",
        "      if temp==None:\n",
        "        return \"Out of index\"\n",
        "      a=temp\n",
        "      temp=temp.next\n",
        "    a.next=temp.next\n",
        "    del temp\n",
        "\n",
        "#Reversing the linked List without Recursion\n",
        "  def reverse(self):\n",
        "    pre,curr=None,self.head\n",
        "    while curr:\n",
        "      nxt=curr.next\n",
        "      curr.next=pre\n",
        "      pre=curr\n",
        "      curr=nxt\n",
        "    self.head=pre\n",
        "\n",
        "# Reversing Using Recursion\n",
        "  def reverse_rec(self,head):\n",
        "    temp=head\n",
        "    print(temp.data)\n",
        "    if head:\n",
        "      return None\n",
        "    new_head=head\n",
        "    if head.next:\n",
        "      new_head=reverse_rec(head.next)\n",
        "      head.next.next=head\n",
        "    head.next=None\n",
        "    self.head=new_head\n",
        "\n",
        "#Break in Middle\n",
        "  def Break_Middle(self):\n",
        "    if head==None:\n",
        "      return None\n",
        "    pre,curr=None,head\n",
        "    length=0\n",
        "    while curr:\n",
        "      lenght+=1\n",
        "    c=0\n",
        "    while c!=:\n",
        "      nxt=curr.next\n",
        "      curr.next=pre\n",
        "      pre=curr\n",
        "      curr=nxt\n",
        "      c=c+1\n",
        "    return printLL(pre),printLL(curr)"
      ]
    },
    {
      "cell_type": "code",
      "source": [],
      "metadata": {
        "id": "xqw9MmV66eFW"
      },
      "execution_count": null,
      "outputs": []
    },
    {
      "cell_type": "code",
      "execution_count": null,
      "metadata": {
        "colab": {
          "base_uri": "https://localhost:8080/"
        },
        "id": "KJn4B2-gLupE",
        "outputId": "96f7e2bd-505b-4436-9adf-5b167130e60d"
      },
      "outputs": [
        {
          "name": "stdout",
          "output_type": "stream",
          "text": [
            "7-->23-->28-->8-->4\n"
          ]
        }
      ],
      "source": [
        "a=Linkedlist()\n",
        "\n",
        "a.insert_last(6)\n",
        "a.insert_first(7)\n",
        "a.insert_last(8)\n",
        "a.insert_position(28,3)\n",
        "a.insert_last(4)\n",
        "a.insert_first(1)\n",
        "a.insert_position(23,3)\n",
        "a.insert_last(6)\n",
        "a.remove_last()\n",
        "a.remove_first()\n",
        "a.remove_position(3)\n",
        "a.printLL()\n",
        "\n"
      ]
    },
    {
      "cell_type": "code",
      "execution_count": null,
      "metadata": {
        "colab": {
          "base_uri": "https://localhost:8080/",
          "height": 280
        },
        "id": "iZW2KbjRL1M5",
        "outputId": "faddb707-a200-4a12-f8e1-90aabc9ce122"
      },
      "outputs": [
        {
          "ename": "AttributeError",
          "evalue": "'Linkedlist' object has no attribute 'data'",
          "output_type": "error",
          "traceback": [
            "\u001b[0;31m---------------------------------------------------------------------------\u001b[0m",
            "\u001b[0;31mAttributeError\u001b[0m                            Traceback (most recent call last)",
            "\u001b[0;32m<ipython-input-135-8eede8b2a876>\u001b[0m in \u001b[0;36m<cell line: 1>\u001b[0;34m()\u001b[0m\n\u001b[0;32m----> 1\u001b[0;31m \u001b[0ma\u001b[0m\u001b[0;34m.\u001b[0m\u001b[0mreverse_rec\u001b[0m\u001b[0;34m(\u001b[0m\u001b[0ma\u001b[0m\u001b[0;34m)\u001b[0m\u001b[0;34m\u001b[0m\u001b[0;34m\u001b[0m\u001b[0m\n\u001b[0m\u001b[1;32m      2\u001b[0m \u001b[0ma\u001b[0m\u001b[0;34m.\u001b[0m\u001b[0mprintLL\u001b[0m\u001b[0;34m(\u001b[0m\u001b[0;34m)\u001b[0m\u001b[0;34m\u001b[0m\u001b[0;34m\u001b[0m\u001b[0m\n",
            "\u001b[0;32m<ipython-input-133-88f2f18ad2cd>\u001b[0m in \u001b[0;36mreverse_rec\u001b[0;34m(self, head)\u001b[0m\n\u001b[1;32m     98\u001b[0m   \u001b[0;32mdef\u001b[0m \u001b[0mreverse_rec\u001b[0m\u001b[0;34m(\u001b[0m\u001b[0mself\u001b[0m\u001b[0;34m,\u001b[0m\u001b[0mhead\u001b[0m\u001b[0;34m)\u001b[0m\u001b[0;34m:\u001b[0m\u001b[0;34m\u001b[0m\u001b[0;34m\u001b[0m\u001b[0m\n\u001b[1;32m     99\u001b[0m     \u001b[0mtemp\u001b[0m\u001b[0;34m=\u001b[0m\u001b[0mhead\u001b[0m\u001b[0;34m\u001b[0m\u001b[0;34m\u001b[0m\u001b[0m\n\u001b[0;32m--> 100\u001b[0;31m     \u001b[0mprint\u001b[0m\u001b[0;34m(\u001b[0m\u001b[0mtemp\u001b[0m\u001b[0;34m.\u001b[0m\u001b[0mdata\u001b[0m\u001b[0;34m)\u001b[0m\u001b[0;34m\u001b[0m\u001b[0;34m\u001b[0m\u001b[0m\n\u001b[0m\u001b[1;32m    101\u001b[0m     \u001b[0;32mif\u001b[0m \u001b[0mhead\u001b[0m\u001b[0;34m:\u001b[0m\u001b[0;34m\u001b[0m\u001b[0;34m\u001b[0m\u001b[0m\n\u001b[1;32m    102\u001b[0m       \u001b[0;32mreturn\u001b[0m \u001b[0;32mNone\u001b[0m\u001b[0;34m\u001b[0m\u001b[0;34m\u001b[0m\u001b[0m\n",
            "\u001b[0;31mAttributeError\u001b[0m: 'Linkedlist' object has no attribute 'data'"
          ]
        }
      ],
      "source": [
        "a.reverse_rec(a)\n",
        "a.printLL()"
      ]
    },
    {
      "cell_type": "code",
      "execution_count": null,
      "metadata": {
        "colab": {
          "base_uri": "https://localhost:8080/",
          "height": 141
        },
        "id": "wzDwExmrPNhJ",
        "outputId": "2a5d12e9-0ee8-4e0f-b8ca-a386009f00c5"
      },
      "outputs": [
        {
          "ename": "AttributeError",
          "evalue": "'Linkedlist' object has no attribute 'reverse'",
          "output_type": "error",
          "traceback": [
            "\u001b[0;31m---------------------------------------------------------------------------\u001b[0m",
            "\u001b[0;31mAttributeError\u001b[0m                            Traceback (most recent call last)",
            "\u001b[0;32m<ipython-input-96-d48a15021150>\u001b[0m in \u001b[0;36m<cell line: 1>\u001b[0;34m()\u001b[0m\n\u001b[0;32m----> 1\u001b[0;31m \u001b[0ma\u001b[0m\u001b[0;34m.\u001b[0m\u001b[0mreverse\u001b[0m\u001b[0;34m(\u001b[0m\u001b[0;34m)\u001b[0m\u001b[0;34m\u001b[0m\u001b[0;34m\u001b[0m\u001b[0m\n\u001b[0m",
            "\u001b[0;31mAttributeError\u001b[0m: 'Linkedlist' object has no attribute 'reverse'"
          ]
        }
      ],
      "source": []
    },
    {
      "cell_type": "code",
      "execution_count": null,
      "metadata": {
        "id": "vckAgJ6NQ9y-"
      },
      "outputs": [],
      "source": [
        "def insert_position(self,data,idx):\n",
        "    new_node=Node(data)\n",
        "    print(new_node)\n",
        "    if self.head==None:\n",
        "      if idx>0:\n",
        "        return False\n",
        "      self.head=new_node\n",
        "    temp=self.head\n",
        "    for i in range(0,idx):\n",
        "      temp=temp.next\n",
        "    new_node=temp.next\n",
        "    temp.next=new_node"
      ]
    },
    {
      "cell_type": "code",
      "execution_count": null,
      "metadata": {
        "id": "gbDByiLcjOqC"
      },
      "outputs": [],
      "source": [
        "insert_position(23,0)"
      ]
    }
  ],
  "metadata": {
    "colab": {
      "provenance": [],
      "authorship_tag": "ABX9TyP1qEaNRllaFZVo7rigxX5w",
      "include_colab_link": true
    },
    "kernelspec": {
      "display_name": "Python 3",
      "name": "python3"
    },
    "language_info": {
      "name": "python"
    }
  },
  "nbformat": 4,
  "nbformat_minor": 0
}