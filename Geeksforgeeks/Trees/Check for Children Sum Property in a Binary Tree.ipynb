{
  "nbformat": 4,
  "nbformat_minor": 0,
  "metadata": {
    "colab": {
      "provenance": [],
      "authorship_tag": "ABX9TyO4aOgQ5diGusBJUlYud26w",
      "include_colab_link": true
    },
    "kernelspec": {
      "name": "python3",
      "display_name": "Python 3"
    },
    "language_info": {
      "name": "python"
    }
  },
  "cells": [
    {
      "cell_type": "markdown",
      "metadata": {
        "id": "view-in-github",
        "colab_type": "text"
      },
      "source": [
        "<a href=\"https://colab.research.google.com/github/mariajoseph83/DSA_python/blob/main/Geeksforgeeks/Trees/Check%20for%20Children%20Sum%20Property%20in%20a%20Binary%20Tree.ipynb\" target=\"_parent\"><img src=\"https://colab.research.google.com/assets/colab-badge.svg\" alt=\"Open In Colab\"/></a>"
      ]
    },
    {
      "cell_type": "markdown",
      "source": [
        "[Check for Children Sum Property in a Binary Tree\n",
        "](https://www.geeksforgeeks.org/problems/children-sum-parent/1?itm_source=geeksforgeeks&itm_medium=article&itm_campaign=bottom_sticky_on_article)"
      ],
      "metadata": {
        "id": "K5fANidQLFqw"
      }
    },
    {
      "cell_type": "code",
      "source": [
        "#User function Template for python3\n",
        "\n",
        "'''\n",
        "# Node Class:\n",
        "class Node:\n",
        "    def init(self,val):\n",
        "        self.data = val\n",
        "        self.left = None\n",
        "        self.right = None\n",
        "'''\n",
        "\n",
        "class Solution:\n",
        "    #Function to check whether all nodes of a tree have the value\n",
        "    #equal to the sum of their child nodes.\n",
        "    def isSumProperty(self, root):\n",
        "        def isleaf(root):\n",
        "            return not root.left and not root.right\n",
        "        def sum(root):\n",
        "            if not root:\n",
        "                return (True,0)\n",
        "            if isleaf(root):\n",
        "                return (True,root.data)\n",
        "            lp=sum(root.left)\n",
        "            rp=sum(root.right)\n",
        "            return (lp[0] and rp[0] and root.data==(lp[1]+rp[1]),root.data)\n",
        "        l=sum(root)\n",
        "        return 1 if l[0]==True else 0"
      ],
      "metadata": {
        "id": "4MSmYrI5LNBd"
      },
      "execution_count": null,
      "outputs": []
    }
  ]
}