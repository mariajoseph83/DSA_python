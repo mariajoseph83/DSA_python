{
  "nbformat": 4,
  "nbformat_minor": 0,
  "metadata": {
    "colab": {
      "provenance": [],
      "authorship_tag": "ABX9TyMtlwVD/mDzxwzhi30nupNu",
      "include_colab_link": true
    },
    "kernelspec": {
      "name": "python3",
      "display_name": "Python 3"
    },
    "language_info": {
      "name": "python"
    }
  },
  "cells": [
    {
      "cell_type": "markdown",
      "metadata": {
        "id": "view-in-github",
        "colab_type": "text"
      },
      "source": [
        "<a href=\"https://colab.research.google.com/github/mariajoseph83/DSA_python/blob/main/Geeksforgeeks/Trees/Boundary_traversal.ipynb\" target=\"_parent\"><img src=\"https://colab.research.google.com/assets/colab-badge.svg\" alt=\"Open In Colab\"/></a>"
      ]
    },
    {
      "cell_type": "code",
      "execution_count": null,
      "metadata": {
        "id": "c2GyA_4omfhu"
      },
      "outputs": [],
      "source": []
    },
    {
      "cell_type": "markdown",
      "source": [
        "\n",
        "<font face=\"monospace\">\n",
        "\n",
        "Boundary Traversal of binary tree [question](https://www.geeksforgeeks.org/problems/boundary-traversal-of-binary-tree/1?itm_source=geeksforgeeks&itm_medium=article&itm_campaign=bottom_sticky_on_article)\n",
        "\n",
        "MediumAccuracy: 23.33% &nbsp;&nbsp;Submissions: 337K+ &nbsp;&nbsp;Points: 4\n",
        "\n",
        "Given a Binary Tree, find its Boundary Traversal. The traversal should be in the following order:<br>\n",
        "\n",
        "\n",
        "Left boundary nodes: defined as the path from the root to the left-most node ie- the leaf node you could reach when you always travel preferring the left subtree over the right subtree.\n",
        "\n",
        "Leaf nodes: All the leaf nodes except for the ones that are part of left or right boundary.\n",
        "\n",
        "Reverse right boundary nodes: defined as the path from the right-most node to the root. The right-most node is the leaf node you could reach when you always travel preferring the right subtree over the left subtree. Exclude the root from this as it was already included in the traversal of left boundary nodes.\n",
        "Note: If the root doesn't have a left subtree or right subtree, then the root itself is the left or right boundary.\n",
        "\n",
        "Example 1:\n",
        "\n",
        "Input:\n",
        "```\n",
        "        1\n",
        "      /   \\\n",
        "     2     3  \n",
        "    / \\   / \\\n",
        "   4   5 6   7\n",
        "      / \\\n",
        "     8   9\n",
        "```\n",
        "   \n",
        "Output: 1 2 4 8 9 6 7 3\n",
        "\n",
        "Explanation:\n",
        "\n",
        "![](https://media.geeksforgeeks.org/wp-content/uploads/20211103204119/graph4-300x300.png)\n",
        "\n",
        "Example 2:\n",
        "\n",
        "Input:\n",
        "```\n",
        "            1\n",
        "           /\n",
        "          2\n",
        "        /  \\\n",
        "       4    9\n",
        "     /  \\    \\\n",
        "    6    5    3\n",
        "             /  \\\n",
        "            7     8\n",
        "```\n",
        "\n",
        "Output: 1 2 4 6 5 7 8\n",
        "\n",
        "Explanation:\n",
        "\n",
        "![](https://media.geeksforgeeks.org/wp-content/uploads/20211103204646/graph1-300x300.png)\n",
        "\n",
        "\n",
        "As you can see we have not taken the right subtree.\n",
        "\n",
        "Your Task:\n",
        "This is a function problem. You don't have to take input. Just complete the function boundary() that takes the root node as input and returns an array containing the boundary values in anti-clockwise.\n",
        "\n",
        "Expected Time Complexity: O(N).\n",
        "\n",
        "Expected Auxiliary Space: O(Height of the Tree).\n",
        "\n",
        "Constraints:\n",
        "1 ≤ Number of nodes ≤ 105\n",
        "\n",
        "1 ≤ Data of a node ≤ 105\n",
        "<font>"
      ],
      "metadata": {
        "id": "V8kdo6tFm_xU"
      }
    },
    {
      "cell_type": "code",
      "source": [
        "class TreeNode:\n",
        "    def __init__(self, val):\n",
        "        self.right = None\n",
        "        self.data = val\n",
        "        self.left = None"
      ],
      "metadata": {
        "id": "VOYm4Uetqf5E"
      },
      "execution_count": 3,
      "outputs": []
    },
    {
      "cell_type": "code",
      "source": [
        "#User function Template for python3\n",
        "\n",
        "\n",
        "class Solution:\n",
        "    def printBoundaryView(self, root):\n",
        "        stack=[root.data]\n",
        "        def left(root):\n",
        "            if not root:\n",
        "                return\n",
        "            while True:\n",
        "                if root.left:\n",
        "                    stack.append(root.data)\n",
        "                    root=root.left\n",
        "                elif root.right:\n",
        "                    stack.append(root.data)\n",
        "                    root=root.right\n",
        "                else:\n",
        "                    return\n",
        "        def leaf(root):\n",
        "            if root:\n",
        "                leaf(root.left)\n",
        "                if not root.left and not root.right:\n",
        "                    stack.append(root.data)\n",
        "                leaf(root.right)\n",
        "        def right(root):\n",
        "            if not root:\n",
        "                return stack\n",
        "            stack1=[]\n",
        "            while True:\n",
        "                if root.right:\n",
        "                    stack1.append(root.data)\n",
        "                    root=root.right\n",
        "                elif root.left:\n",
        "                    stack1.append(root.data)\n",
        "                    root=root.left\n",
        "                else:\n",
        "                    stack1.reverse()\n",
        "                    return stack + stack1\n",
        "        left(root.left)\n",
        "        leaf(root.left)\n",
        "        leaf(root.right)\n",
        "        return right(root.right)"
      ],
      "metadata": {
        "id": "H9ewHQKnoYwm"
      },
      "execution_count": 4,
      "outputs": []
    },
    {
      "cell_type": "code",
      "source": [
        "root = TreeNode(1)\n",
        "root.left = TreeNode(2)\n",
        "root.right = TreeNode(3)\n",
        "root.left.left = TreeNode(4)\n",
        "root.left.right = TreeNode(5)\n",
        "root.right.left = TreeNode(6)\n",
        "root.right.right = TreeNode(7)\n",
        "root.left.right.left = TreeNode(8)\n",
        "root.left.right.right = TreeNode(9)"
      ],
      "metadata": {
        "id": "ics3rayKqUhJ"
      },
      "execution_count": 5,
      "outputs": []
    },
    {
      "cell_type": "code",
      "source": [
        "import matplotlib.pyplot as plt\n",
        "import networkx as nx\n",
        "\n",
        "def add_edges(tree, parent_name, graph, pos=None, level=0, width=2.0, vert_gap=0.2, xcenter=0.5):\n",
        "    if pos is None:\n",
        "        pos = {parent_name: (xcenter, 1 - level * vert_gap)}\n",
        "    else:\n",
        "        pos[parent_name] = (xcenter, 1 - level * vert_gap)\n",
        "    neighbors = [tree.left, tree.right]\n",
        "    for i, node in enumerate(neighbors):\n",
        "        if node is not None:\n",
        "            name = str(node.data)\n",
        "            graph.add_node(name)\n",
        "            graph.add_edge(parent_name, name)\n",
        "            pos = add_edges(node, name, graph, pos=pos, level=level+1, width=width/2, vert_gap=vert_gap, xcenter=xcenter - width/2 + i*width)\n",
        "    return pos\n",
        "\n",
        "def Tree(root):\n",
        "    # Create graph representation of the binary tree\n",
        "    tree_graph = nx.DiGraph()\n",
        "\n",
        "    # Add edges to the graph\n",
        "    pos = add_edges(root, str(root.data), tree_graph)\n",
        "\n",
        "    # Draw the graph\n",
        "    nx.draw(tree_graph, pos, with_labels=True, node_size=2000, node_color=\"skyblue\", font_size=12, font_weight=\"bold\", arrowsize=20)\n",
        "    plt.title(\"Binary Tree\")"
      ],
      "metadata": {
        "id": "PElwnVUgqzZ8"
      },
      "execution_count": 9,
      "outputs": []
    },
    {
      "cell_type": "code",
      "source": [
        "Tree(root)"
      ],
      "metadata": {
        "colab": {
          "base_uri": "https://localhost:8080/",
          "height": 539
        },
        "id": "exwIfhIvrEkj",
        "outputId": "72895c3c-a3f2-4867-a89f-6f6eabc8b3a7"
      },
      "execution_count": 10,
      "outputs": [
        {
          "output_type": "display_data",
          "data": {
            "text/plain": [
              "<Figure size 640x480 with 1 Axes>"
            ],
            "image/png": "[encoded data removed]"
          },
          "metadata": {}
        }
      ]
    },
    {
      "cell_type": "code",
      "source": [
        "s=Solution()\n",
        "s.printBoundaryView(root)"
      ],
      "metadata": {
        "colab": {
          "base_uri": "https://localhost:8080/"
        },
        "id": "PxWKTWFqoZW8",
        "outputId": "594602f7-b348-4a96-d96d-2760e57b7a49"
      },
      "execution_count": 6,
      "outputs": [
        {
          "output_type": "execute_result",
          "data": {
            "text/plain": [
              "[1, 2, 4, 8, 9, 6, 7, 3]"
            ]
          },
          "metadata": {},
          "execution_count": 6
        }
      ]
    }
  ]
}