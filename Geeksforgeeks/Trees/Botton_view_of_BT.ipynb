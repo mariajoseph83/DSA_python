{
  "nbformat": 4,
  "nbformat_minor": 0,
  "metadata": {
    "colab": {
      "provenance": [],
      "authorship_tag": "ABX9TyN5ShwgC6eXFbt+NVBgTIjE",
      "include_colab_link": true
    },
    "kernelspec": {
      "name": "python3",
      "display_name": "Python 3"
    },
    "language_info": {
      "name": "python"
    }
  },
  "cells": [
    {
      "cell_type": "markdown",
      "metadata": {
        "id": "view-in-github",
        "colab_type": "text"
      },
      "source": [
        "<a href=\"https://colab.research.google.com/github/mariajoseph83/DSA_python/blob/main/Geeksforgeeks/Trees/Botton_view_of_BT.ipynb\" target=\"_parent\"><img src=\"https://colab.research.google.com/assets/colab-badge.svg\" alt=\"Open In Colab\"/></a>"
      ]
    },
    {
      "cell_type": "markdown",
      "source": [
        "[Bottom View of Binary Tree](https://www.geeksforgeeks.org/problems/bottom-view-of-binary-tree/1)"
      ],
      "metadata": {
        "id": "K5fANidQLFqw"
      }
    },
    {
      "cell_type": "code",
      "source": [
        "class Solution:\n",
        "    def bottomView(self, root):\n",
        "        hashmap=defaultdict(int)\n",
        "        queue=deque()\n",
        "        queue.append((root,0))\n",
        "        while queue:\n",
        "            for _ in range(len(queue)):\n",
        "                node,lvl=queue.popleft()\n",
        "                if node.left:\n",
        "                    queue.append((node.left,lvl-1))\n",
        "                if node.right:\n",
        "                    queue.append((node.right,lvl+1))\n",
        "                hashmap[lvl]=node.data\n",
        "        res=[]\n",
        "        for i in sorted(hashmap):\n",
        "            res.append(hashmap[i])\n",
        "        return res"
      ],
      "metadata": {
        "id": "4MSmYrI5LNBd"
      },
      "execution_count": null,
      "outputs": []
    }
  ]
}