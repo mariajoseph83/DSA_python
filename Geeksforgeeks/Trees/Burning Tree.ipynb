{
  "nbformat": 4,
  "nbformat_minor": 0,
  "metadata": {
    "colab": {
      "provenance": [],
      "authorship_tag": "ABX9TyO3ej6AGNRveFTa29AVRNnZ",
      "include_colab_link": true
    },
    "kernelspec": {
      "name": "python3",
      "display_name": "Python 3"
    },
    "language_info": {
      "name": "python"
    }
  },
  "cells": [
    {
      "cell_type": "markdown",
      "metadata": {
        "id": "view-in-github",
        "colab_type": "text"
      },
      "source": [
        "<a href=\"https://colab.research.google.com/github/mariajoseph83/DSA_python/blob/main/Geeksforgeeks/Trees/Burning%20Tree.ipynb\" target=\"_parent\"><img src=\"https://colab.research.google.com/assets/colab-badge.svg\" alt=\"Open In Colab\"/></a>"
      ]
    },
    {
      "cell_type": "markdown",
      "source": [
        "[Burning Tree](https://www.geeksforgeeks.org/problems/burning-tree/1?itm_source=geeksforgeeks&itm_medium=article&itm_campaign=bottom_sticky_on_article)"
      ],
      "metadata": {
        "id": "K5fANidQLFqw"
      }
    },
    {
      "cell_type": "code",
      "source": [
        "#User function Template for python3\n",
        "from collections import deque\n",
        "class Solution:\n",
        "    def minTime(self, root,target):\n",
        "        # code here\n",
        "        hashmap={root:None}\n",
        "        q=deque([root])\n",
        "        def parentmap(root):\n",
        "            while q:\n",
        "                node=q.popleft()\n",
        "                if node.data==target:\n",
        "                    self.t_node=node\n",
        "                if node.left:\n",
        "                    q.append(node.left)\n",
        "                    hashmap[node.left]=node\n",
        "                if node.right:\n",
        "                    q.append(node.right)\n",
        "                    hashmap[node.right]=node\n",
        "        def burn(root):\n",
        "            q.append(root)\n",
        "            #d=deque([root.data])\n",
        "            seen=set()\n",
        "            seen.add(root.data)\n",
        "            count=0\n",
        "            while q:\n",
        "                #print(d)\n",
        "                for _ in range(len(q)):\n",
        "                    node=q.popleft()\n",
        "                    #d.popleft()\n",
        "                    if node.left and node.left.data not in seen:\n",
        "                        q.append(node.left)\n",
        "                        #d.append(node.left.data)\n",
        "                        seen.add(node.left.data)\n",
        "                    if node.right and node.right.data not in seen:\n",
        "                        q.append(node.right)\n",
        "                        #d.append(node.right.data)\n",
        "                        seen.add(node.right.data)\n",
        "                    if hashmap[node] and hashmap[node].data not in seen:\n",
        "                        q.append(hashmap[node])\n",
        "                        #d.append(hashmap[node].data)\n",
        "                        seen.add(hashmap[node].data)\n",
        "                count+=1\n",
        "            return count-1\n",
        "\n",
        "        parentmap(root)\n",
        "        return burn(self.t_node)\n",
        ""
      ],
      "metadata": {
        "id": "4MSmYrI5LNBd"
      },
      "execution_count": null,
      "outputs": []
    }
  ]
}