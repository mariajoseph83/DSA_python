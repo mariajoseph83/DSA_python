{
  "nbformat": 4,
  "nbformat_minor": 0,
  "metadata": {
    "colab": {
      "provenance": [],
      "authorship_tag": "ABX9TyOS77jiu1m8PdK3yz7Hk9Dk",
      "include_colab_link": true
    },
    "kernelspec": {
      "name": "python3",
      "display_name": "Python 3"
    },
    "language_info": {
      "name": "python"
    }
  },
  "cells": [
    {
      "cell_type": "markdown",
      "metadata": {
        "id": "view-in-github",
        "colab_type": "text"
      },
      "source": [
        "<a href=\"https://colab.research.google.com/github/mariajoseph83/DSA_python/blob/main/Geeksforgeeks/Trees/Construct%20Tree%20from%20Inorder%20%26%20Preorder.ipynb\" target=\"_parent\"><img src=\"https://colab.research.google.com/assets/colab-badge.svg\" alt=\"Open In Colab\"/></a>"
      ]
    },
    {
      "cell_type": "markdown",
      "source": [
        "[Construct Tree from Inorder & Preorder](https://www.geeksforgeeks.org/problems/construct-tree-1/1?itm_source=geeksforgeeks&itm_medium=article&itm_campaign=bottom_sticky_on_article)"
      ],
      "metadata": {
        "id": "K5fANidQLFqw"
      }
    },
    {
      "cell_type": "code",
      "source": [
        "#User function Template for python3\n",
        "\n",
        "'''\n",
        "# Node class\n",
        "\n",
        "class Node:\n",
        "    def __init__(self,val):\n",
        "        self.data = val\n",
        "        self.right = None\n",
        "        self.left = None\n",
        "\n",
        "'''\n",
        "\n",
        "class Solution:\n",
        "    def buildtree(self, inorder, preorder, n):\n",
        "        if n==0:\n",
        "            return None\n",
        "        root=Node(preorder[0])\n",
        "        for i in range(0,len(inorder)):\n",
        "            if root.data==inorder[i]:\n",
        "                break\n",
        "        root.left=self.buildtree(inorder[:i],preorder[1:i+1],i)\n",
        "        root.right=self.buildtree(inorder[i+1:],preorder[i+1:],len(inorder)-i-1)\n",
        "        return root\n",
        "        # code here\n",
        "        # build tree and return root node"
      ],
      "metadata": {
        "id": "4MSmYrI5LNBd"
      },
      "execution_count": null,
      "outputs": []
    }
  ]
}