{
  "nbformat": 4,
  "nbformat_minor": 0,
  "metadata": {
    "colab": {
      "provenance": [],
      "authorship_tag": "ABX9TyPI+DaTdKqHabbbJoMq7Hr1",
      "include_colab_link": true
    },
    "kernelspec": {
      "name": "python3",
      "display_name": "Python 3"
    },
    "language_info": {
      "name": "python"
    }
  },
  "cells": [
    {
      "cell_type": "markdown",
      "metadata": {
        "id": "view-in-github",
        "colab_type": "text"
      },
      "source": [
        "<a href=\"https://colab.research.google.com/github/mariajoseph83/DSA_python/blob/main/Geeksforgeeks/Trees/Top_view_of_BT.ipynb\" target=\"_parent\"><img src=\"https://colab.research.google.com/assets/colab-badge.svg\" alt=\"Open In Colab\"/></a>"
      ]
    },
    {
      "cell_type": "markdown",
      "source": [
        "<font face=\"monospace\">\n",
        "\n",
        "Top View of Binary Tree [link](https://www.geeksforgeeks.org/problems/top-view-of-binary-tree/1)\n",
        "\n",
        "MediumAccuracy: 38.43%Submissions: 273K+Points: 4\n",
        "Given below is a binary tree. The task is to print the top view of binary tree. Top view of a binary tree is the set of nodes visible when the tree is viewed from the top. For the given below tree\n",
        "```\n",
        "         1\n",
        "      /     \\\n",
        "     2       3\n",
        "   /  \\    /   \\\n",
        "  4    5  6     7\n",
        "Top view will be: 4 2 1 3 7\n",
        "```\n",
        "Note: Return nodes from leftmost node to rightmost node. Also if 2 nodes are outside the shadow of the tree and are at same position then consider the left ones only(i.e. leftmost).\n",
        "\n",
        "For ex - 1 2 3 N 4 5 N 6 N 7 N 8 N 9 N N N N N will give 8 2 1 3 as answer.\n",
        "\n",
        "Here 8 and 9 are on the same position but 9 will get shadowed.\n",
        "\n",
        "Example 1:\n",
        "```\n",
        "Input:\n",
        "      1\n",
        "   /    \\\n",
        "  2      3\n",
        "Output: 2 1 3\n",
        "```\n",
        "Example 2:\n",
        "```\n",
        "\n",
        "Input:\n",
        "       10\n",
        "    /      \\\n",
        "  20        30\n",
        " /   \\    /    \\\n",
        "40   60  90    100\n",
        "Output: 40 20 10 30 100\n",
        "```\n",
        "Your Task:\n",
        "Since this is a function problem. You don't have to take input. Just complete the function topView() that takes root node as parameter and returns a list of nodes visible from the top view from left to right.\n",
        "\n",
        "Expected Time Complexity: O(NlogN)\n",
        "\n",
        "Expected Auxiliary Space: O(N).\n",
        "\n",
        "**Constraints:**\n",
        "1 ≤ N ≤ 10^5\n",
        "\n",
        "1 ≤ Node Data ≤ 10^5\n",
        "<font>"
      ],
      "metadata": {
        "id": "goI3LsTKEWhZ"
      }
    },
    {
      "cell_type": "code",
      "source": [
        "#User function Template for python3\n",
        "from collections import deque\n",
        "\n",
        "# Tree Node\n",
        "# class Node:\n",
        "#     def __init__(self, val):\n",
        "#         self.right = None\n",
        "#         self.data = val\n",
        "#         self.left = None\n",
        "\n",
        "class Solution:\n",
        "\n",
        "    #Function to return a list of nodes visible from the top view\n",
        "    #from left to right in Binary Tree.\n",
        "    def topView(self,root):\n",
        "        hashmap=dict()\n",
        "        queue=deque()\n",
        "        queue.append((root,0))\n",
        "        while queue:\n",
        "            for _ in range(len(queue)):\n",
        "                node,lvl=queue.popleft()\n",
        "                if node.left:\n",
        "                    queue.append((node.left,lvl-1))\n",
        "                if node.right:\n",
        "                    queue.append((node.right,lvl+1))\n",
        "                if lvl not in hashmap:\n",
        "                    hashmap[lvl]=node.data\n",
        "        res=[]\n",
        "        for i in sorted(hashmap):\n",
        "            res.append(hashmap[i])\n",
        "        return res\n",
        "        # code here"
      ],
      "metadata": {
        "id": "1RrGDWUxFyce"
      },
      "execution_count": null,
      "outputs": []
    }
  ]
}