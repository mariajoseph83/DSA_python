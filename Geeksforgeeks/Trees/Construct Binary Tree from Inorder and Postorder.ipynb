{
  "nbformat": 4,
  "nbformat_minor": 0,
  "metadata": {
    "colab": {
      "provenance": [],
      "authorship_tag": "ABX9TyOI+vILzTCmy0XKDWZqUBgT",
      "include_colab_link": true
    },
    "kernelspec": {
      "name": "python3",
      "display_name": "Python 3"
    },
    "language_info": {
      "name": "python"
    }
  },
  "cells": [
    {
      "cell_type": "markdown",
      "metadata": {
        "id": "view-in-github",
        "colab_type": "text"
      },
      "source": [
        "<a href=\"https://colab.research.google.com/github/mariajoseph83/DSA_python/blob/main/Geeksforgeeks/Trees/Construct%20Binary%20Tree%20from%20Inorder%20and%20Postorder.ipynb\" target=\"_parent\"><img src=\"https://colab.research.google.com/assets/colab-badge.svg\" alt=\"Open In Colab\"/></a>"
      ]
    },
    {
      "cell_type": "markdown",
      "source": [
        "[Construct Binary Tree from Inorder and Postorder\n",
        "](https://www.geeksforgeeks.org/problems/tree-from-postorder-and-inorder/1?itm_source=geeksforgeeks&itm_medium=article&itm_campaign=bottom_sticky_on_article)"
      ],
      "metadata": {
        "id": "K5fANidQLFqw"
      }
    },
    {
      "cell_type": "code",
      "source": [
        "#User function Template for python3\n",
        "\n",
        "'''\n",
        "class Node:\n",
        "            def __init__(self, data):\n",
        "                self.data = data\n",
        "                self.left = self.right = None\n",
        "'''\n",
        "\n",
        "#Function to return a tree created from postorder and inoreder traversals.\n",
        "class Solution:\n",
        "    def buildTree(self,In, post, n):\n",
        "        if n==0:\n",
        "            return None\n",
        "        root=Node(post.pop())\n",
        "        for i in range(n):\n",
        "            if root.data==In[i]:\n",
        "                break\n",
        "        root.left=self.buildTree(In[:i],post[:i],i)\n",
        "        root.right=self.buildTree(In[i+1:],post[i:],n-i-1)\n",
        "        return root\n",
        "    # your code here"
      ],
      "metadata": {
        "id": "4MSmYrI5LNBd"
      },
      "execution_count": null,
      "outputs": []
    }
  ]
}