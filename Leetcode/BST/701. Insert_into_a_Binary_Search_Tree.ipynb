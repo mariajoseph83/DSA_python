{
  "nbformat": 4,
  "nbformat_minor": 0,
  "metadata": {
    "colab": {
      "provenance": [],
      "authorship_tag": "ABX9TyPhi91iv+qPKum6X1imz1Tq",
      "include_colab_link": true
    },
    "kernelspec": {
      "name": "python3",
      "display_name": "Python 3"
    },
    "language_info": {
      "name": "python"
    }
  },
  "cells": [
    {
      "cell_type": "markdown",
      "metadata": {
        "id": "view-in-github",
        "colab_type": "text"
      },
      "source": [
        "<a href=\"https://colab.research.google.com/github/mariajoseph83/DSA_python/blob/main/BST/701.%20Insert_into_a_Binary_Search_Tree.ipynb\" target=\"_parent\"><img src=\"https://colab.research.google.com/assets/colab-badge.svg\" alt=\"Open In Colab\"/></a>"
      ]
    },
    {
      "cell_type": "markdown",
      "source": [
        "<font face=\"monospace\">\n",
        "\n",
        "701. [Insert into a Binary Search Tree](https://leetcode.com/problems/insert-into-a-binary-search-tree/description/)\n",
        "\n",
        "You are given the root node of a binary search tree (BST) and a value to insert into the tree. Return the root node of the BST after the insertion. It is guaranteed that the new value does not exist in the original BST.\n",
        "\n",
        "Notice that there may exist multiple valid ways for the insertion, as long as the tree remains a BST after insertion. You can return any of them.\n",
        "\n",
        "Example 1:\n",
        "\n",
        "![](https://assets.leetcode.com/uploads/2020/10/05/insertbst.jpg)\n",
        "\n",
        "&nbsp;&nbsp; **Input:** root = [4,2,7,1,3], val = 5\n",
        "\n",
        "&nbsp;&nbsp; **Output:** [4,2,7,1,3,5]\n",
        "\n",
        "&nbsp;&nbsp; **Explanation:** Another accepted tree is:\n",
        "\n",
        "![](https://assets.leetcode.com/uploads/2020/10/05/bst.jpg)\n",
        "\n",
        "**Example 2:**\n",
        "\n",
        "\n",
        "&nbsp;&nbsp; **Input:** root = [40,20,60,10,30,50,70], val = 25\n",
        "\n",
        "&nbsp;&nbsp; **Output:** [40,20,60,10,30,50,70,null,null,25]\n",
        "\n",
        "**Example 3:**\n",
        "\n",
        "&nbsp;&nbsp; **Input:** root = [4,2,7,1,3,null,null,null,null,null,null], val = 5\n",
        "\n",
        "&nbsp;&nbsp; **Output:** [4,2,7,1,3,5]\n",
        "\n",
        "\n",
        "**Constraints:**\n",
        "\n",
        "The number of nodes in the tree will be in the range [0, 104].\n",
        "\n",
        "*   The number of nodes in the tree will be in the range [0, 104].\n",
        "*   -10^8 <= Node.val <= 10^8\n",
        "*   All the values Node.val are unique.\n",
        "*   -10^8 <= val <= 10^8\n",
        "*   It's guaranteed that val does not exist in the original BST.\n",
        "<font>"
      ],
      "metadata": {
        "id": "vai8TUYMnJuh"
      }
    },
    {
      "cell_type": "code",
      "source": [
        "Think about the problem"
      ],
      "metadata": {
        "id": "9xgyjT1iyGKL"
      },
      "execution_count": null,
      "outputs": []
    },
    {
      "cell_type": "markdown",
      "source": [
        "<font face=\"monospace\">\n",
        "\n",
        "**Intuition:**\n",
        "\n",
        "1. A BST is Binary Search Tree which has all values less that root to its left and all values greater that to its right and only has two nodes.\n",
        "2. The first method is simply seach in BST and append if the node left or right is none and our value.\n",
        "3. Its a straight forward question Ig every one will solve.\n",
        "2. The another case youd be pretty easy by it need to be done twice and so much searching.\n",
        "3. See the value i.e 5 we are checking should be greater than root.left and less than root.right then we have to make that node as 5 and then we try to insert our poped element. So again we need to solve the same question if u again try to pop u must be crazy."
      ],
      "metadata": {
        "id": "MTAZ2u3gssLV"
      }
    },
    {
      "cell_type": "code",
      "source": [
        "# Definition for a binary tree node.\n",
        "class TreeNode:\n",
        "     def __init__(self, val=0, left=None, right=None):\n",
        "         self.val = val\n",
        "         self.left = left\n",
        "         self.right = right"
      ],
      "metadata": {
        "id": "CW3Ak9kfu-4R"
      },
      "execution_count": 2,
      "outputs": []
    },
    {
      "cell_type": "code",
      "source": [
        "root=TreeNode(4)\n",
        "root.left=TreeNode(2)\n",
        "root.left.left=TreeNode(1)\n",
        "root.left.right=TreeNode(3)\n",
        "root.right=TreeNode(7)"
      ],
      "metadata": {
        "id": "1X1HtH49vCn0"
      },
      "execution_count": 10,
      "outputs": []
    },
    {
      "cell_type": "code",
      "source": [
        "class Solution:\n",
        "    def insertIntoBST(self, root: TreeNode, val: int) -> TreeNode:\n",
        "        if not root:\n",
        "            return TreeNode(val)\n",
        "        troot=root\n",
        "        while 1:\n",
        "            if troot.val<val:\n",
        "                if not troot.right:\n",
        "                    troot.right=TreeNode(val)\n",
        "                    return root\n",
        "                troot=troot.right\n",
        "            else:\n",
        "                if not troot.left:\n",
        "                    troot.left=TreeNode(val)\n",
        "                    return root\n",
        "                troot=troot.left"
      ],
      "metadata": {
        "id": "WSZVVTwnu4Ta"
      },
      "execution_count": 5,
      "outputs": []
    },
    {
      "cell_type": "code",
      "source": [
        "def inorder(root):\n",
        "  if not root:\n",
        "    return\n",
        "  inorder(root.left)\n",
        "  print(root.val,end=\" \")\n",
        "  inorder(root.right)"
      ],
      "metadata": {
        "id": "vg9YAyRWvr7g"
      },
      "execution_count": 6,
      "outputs": []
    },
    {
      "cell_type": "code",
      "source": [
        "a=Solution()\n",
        "node=a.insertIntoBST(root,5)\n",
        "inorder(node)"
      ],
      "metadata": {
        "colab": {
          "base_uri": "https://localhost:8080/"
        },
        "id": "EdubUO5Cve4D",
        "outputId": "c06c5009-8540-4ba0-fd3e-250af0f43e7d"
      },
      "execution_count": 11,
      "outputs": [
        {
          "output_type": "stream",
          "name": "stdout",
          "text": [
            "1 2 3 4 5 7 "
          ]
        }
      ]
    },
    {
      "cell_type": "markdown",
      "source": [
        "<font face=\"monospace\">\n",
        "I included a DFS if should be always Increasing order\n",
        "<font>\n"
      ],
      "metadata": {
        "id": "YcWFZhTfxr7b"
      }
    }
  ]
}
