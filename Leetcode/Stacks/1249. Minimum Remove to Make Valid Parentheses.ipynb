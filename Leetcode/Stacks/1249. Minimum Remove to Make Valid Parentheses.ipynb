{
  "nbformat": 4,
  "nbformat_minor": 0,
  "metadata": {
    "colab": {
      "provenance": [],
      "authorship_tag": "ABX9TyNclOZnMU498LXJobrhK/Nf",
      "include_colab_link": true
    },
    "kernelspec": {
      "name": "python3",
      "display_name": "Python 3"
    },
    "language_info": {
      "name": "python"
    }
  },
  "cells": [
    {
      "cell_type": "markdown",
      "metadata": {
        "id": "view-in-github",
        "colab_type": "text"
      },
      "source": [
        "<a href=\"https://colab.research.google.com/github/mariajoseph83/DSA_python/blob/main/Leetcode/Stacks/1249.%20Minimum%20Remove%20to%20Make%20Valid%20Parentheses.ipynb\" target=\"_parent\"><img src=\"https://colab.research.google.com/assets/colab-badge.svg\" alt=\"Open In Colab\"/></a>"
      ]
    },
    {
      "cell_type": "markdown",
      "source": [
        "1249. [Minimum Remove to Make Valid Parentheses](https://leetcode.com/problems/minimum-remove-to-make-valid-parentheses/description/)"
      ],
      "metadata": {
        "id": "Dl5coCeeLydR"
      }
    },
    {
      "cell_type": "code",
      "source": [
        "class Solution:\n",
        "    def minRemoveToMakeValid(self, s: str) -> str:\n",
        "        stack=[]\n",
        "        s=list(s)\n",
        "        for idx,val in enumerate(s):\n",
        "            if val==\"(\":\n",
        "                stack.append(idx)\n",
        "            elif val==\")\":\n",
        "                if stack:\n",
        "                    stack.pop()\n",
        "                else:\n",
        "                    s[idx]=\"\"\n",
        "        for i in stack:\n",
        "            s[i]=\"\"\n",
        "        return \"\".join(s)"
      ],
      "metadata": {
        "id": "XnBAOyQfL3tP"
      },
      "execution_count": null,
      "outputs": []
    }
  ]
}