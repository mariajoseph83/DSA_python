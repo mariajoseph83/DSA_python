{
  "nbformat": 4,
  "nbformat_minor": 0,
  "metadata": {
    "colab": {
      "provenance": [],
      "authorship_tag": "ABX9TyOm3mvWG2/AeCkzq6R8KUmx",
      "include_colab_link": true
    },
    "kernelspec": {
      "name": "python3",
      "display_name": "Python 3"
    },
    "language_info": {
      "name": "python"
    }
  },
  "cells": [
    {
      "cell_type": "markdown",
      "metadata": {
        "id": "view-in-github",
        "colab_type": "text"
      },
      "source": [
        "<a href=\"https://colab.research.google.com/github/mariajoseph83/DSA_python/blob/main/Leetcode/Hashmap/1700.%20Number%20of%20Students%20Unable%20to%20Eat%20Lunch.ipynb\" target=\"_parent\"><img src=\"https://colab.research.google.com/assets/colab-badge.svg\" alt=\"Open In Colab\"/></a>"
      ]
    },
    {
      "cell_type": "markdown",
      "source": [
        "1700. [Number of Students Unable to Eat Lunch](https://leetcode.com/problems/number-of-students-unable-to-eat-lunch/)"
      ],
      "metadata": {
        "id": "Dl5coCeeLydR"
      }
    },
    {
      "cell_type": "code",
      "source": [
        "class Solution:\n",
        "    def countStudents(self, students: List[int], sandwiches: List[int]) -> int:\n",
        "        hashmap=Counter(students)\n",
        "        for i in sandwiches:\n",
        "            if hashmap[i]==0:\n",
        "                return hashmap[0]+hashmap[1]\n",
        "            hashmap[i]-=1\n",
        "        return 0"
      ],
      "metadata": {
        "id": "XnBAOyQfL3tP"
      },
      "execution_count": null,
      "outputs": []
    },
    {
      "cell_type": "code",
      "source": [],
      "metadata": {
        "id": "LMX0HyoQ0yMT"
      },
      "execution_count": null,
      "outputs": []
    }
  ]
}