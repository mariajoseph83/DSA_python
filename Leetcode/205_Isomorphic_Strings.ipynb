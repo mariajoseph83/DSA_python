{
  "nbformat": 4,
  "nbformat_minor": 0,
  "metadata": {
    "colab": {
      "provenance": [],
      "authorship_tag": "ABX9TyMm+HuVZnv84Blylaaxibmp",
      "include_colab_link": true
    },
    "kernelspec": {
      "name": "python3",
      "display_name": "Python 3"
    },
    "language_info": {
      "name": "python"
    }
  },
  "cells": [
    {
      "cell_type": "markdown",
      "metadata": {
        "id": "view-in-github",
        "colab_type": "text"
      },
      "source": [
        "<a href=\"https://colab.research.google.com/github/mariajoseph83/DSA_python/blob/main/Leetcode/205_Isomorphic_Strings.ipynb\" target=\"_parent\"><img src=\"https://colab.research.google.com/assets/colab-badge.svg\" alt=\"Open In Colab\"/></a>"
      ]
    },
    {
      "cell_type": "markdown",
      "source": [
        "<font face=\"monospace\">\n",
        "\n",
        "*205. Isomorphic Strings - Easy [link](https://leetcode.com/problems/isomorphic-strings/description/?envType=daily-question&envId=2024-04-02)*\n",
        "\n",
        "Given two strings, s and t, determine if they are isomorphic.\n",
        "\n",
        "Two strings s and t are considered isomorphic if the characters in s can be replaced to obtain t.\n",
        "\n",
        "All occurrences of a character must be replaced with another character while preserving the order of characters. No two characters may map to the same character, but a character may map to itself.\n",
        "\n",
        "<b>Example 1:</b>\n",
        "\n",
        "Input: s = \"egg\", t = \"add\"  \n",
        "Output: true  \n",
        "\n",
        "<b>Example 2:</b>\n",
        "\n",
        "Input: s = \"foo\", t = \"bar\"  \n",
        "Output: false  \n",
        "\n",
        "<b>Example 3:</b>\n",
        "\n",
        "Input: s = \"paper\", t = \"title\"  \n",
        "Output: true  \n",
        "\n",
        "<b>Constraints:</b>\n",
        "\n",
        "- 1 <= s.length <= 5 * 10^4  \n",
        "- t.length == s.length  \n",
        "- s and t consist of any valid ASCII character.\n",
        "<font>"
      ],
      "metadata": {
        "id": "NBIwrFJECRPn"
      }
    },
    {
      "cell_type": "code",
      "source": [
        "Think about the solution"
      ],
      "metadata": {
        "id": "ekAEaqKcLQdN"
      },
      "execution_count": null,
      "outputs": []
    },
    {
      "cell_type": "markdown",
      "source": [
        "\n",
        "<font face=\"monospace\">\n",
        "\n",
        "**Intution:**\n",
        "1. Frist im gonna think like a brute force.\n",
        "2. I dont get anyidea how to solve the problem\n",
        "3. Then when you look at the examples it is clear that the set of s and t are same that may help.\n",
        "4. The problem is that it should follow the sequece lets say abb - ccb both have same set length but we should return False.\n",
        "5. So how about this if we combine both and make as a set using zip refer the below example and try out your own.\n",
        "6. I have another approch this might be more intuative lets irterate throught two Strings.\n",
        "7. Both have same length so no need to worry about out of bounce. Its clear that the mapping should be in sequence.\n",
        "8. So what im gonna do is for every iteration im gonna map my character in s to t so it will be like {\"a\":\"e\",\"d\":\"g\"} in hashmap\n",
        "9. while doing that we need to check if hashmap[s[i]]!=\"\" if its not it is assigined previously so we need to check if hashmap[s[i]]==t[i] if not we gonna return False.\n",
        "10. And lastly what if consider a case like s=\"abc\" and t=\"aaa\" so we cant assign {\"a\":\"a\",\"b\":\"a\",\"c\":\"a\"} so to resolve that we make a set seen of if \"a\" is assigned to aonther variable we append to seen if any varaible already assigned but still has no key so we return False as well.\n",
        "11. so this is all about how might i solved i think approach 2 is good we dont need to check all if it voilates.\n",
        "<font>"
      ],
      "metadata": {
        "id": "Fd4laz6QLhds"
      }
    },
    {
      "cell_type": "code",
      "source": [
        "s=\"add\"\n",
        "t=\"egg\"\n",
        "b=set(zip(s,t))\n",
        "print(b)\n",
        "# the single line code would be"
      ],
      "metadata": {
        "colab": {
          "base_uri": "https://localhost:8080/"
        },
        "id": "ilyGf2f9LyeX",
        "outputId": "6dd249e0-f93b-4880-8b24-827d20961520"
      },
      "execution_count": 3,
      "outputs": [
        {
          "output_type": "stream",
          "name": "stdout",
          "text": [
            "{('a', 'e'), ('d', 'g')}\n"
          ]
        }
      ]
    },
    {
      "cell_type": "code",
      "source": [
        "class Solution:\n",
        "    def isIsomorphic(self, s: str, t: str) -> bool:\n",
        "        return len(set(zip(s,t))) == len(set(s)) == len(set(t))"
      ],
      "metadata": {
        "id": "WLlavstPNLhW"
      },
      "execution_count": 5,
      "outputs": []
    },
    {
      "cell_type": "code",
      "source": [
        "a=Solution()\n",
        "b=a.isIsomorphic(\"egg\",\"add\")\n",
        "print(b)"
      ],
      "metadata": {
        "colab": {
          "base_uri": "https://localhost:8080/"
        },
        "id": "zYgeCSchRiYt",
        "outputId": "86823d16-37e6-4b6b-fab8-70bb2382ce04"
      },
      "execution_count": 6,
      "outputs": [
        {
          "output_type": "stream",
          "name": "stdout",
          "text": [
            "True\n"
          ]
        }
      ]
    },
    {
      "cell_type": "code",
      "source": [
        "class Solution:\n",
        "    def isIsomorphic(self, s: str, t: str) -> bool:\n",
        "        seen=set()\n",
        "        hashmap=defaultdict(str)\n",
        "        for i in range(len(s)):\n",
        "            if hashmap[s[i]]!=\"\":\n",
        "                if t[i]!=hashmap[s[i]]:\n",
        "                    return False\n",
        "            else:\n",
        "                if t[i] in seen:\n",
        "                    return False\n",
        "                hashmap[s[i]]=t[i]\n",
        "                seen.add(t[i])\n",
        "        return True"
      ],
      "metadata": {
        "id": "qO76kAnpRZnv"
      },
      "execution_count": null,
      "outputs": []
    },
    {
      "cell_type": "code",
      "source": [
        "a=Solution()\n",
        "b=a.isIsomorphic(\"eggi\",\"addd\")\n",
        "print(b)"
      ],
      "metadata": {
        "colab": {
          "base_uri": "https://localhost:8080/"
        },
        "id": "HlBFwDgNR0IM",
        "outputId": "66cca827-64b8-4c58-b934-02fc04c97b7e"
      },
      "execution_count": 9,
      "outputs": [
        {
          "output_type": "stream",
          "name": "stdout",
          "text": [
            "False\n"
          ]
        }
      ]
    },
    {
      "cell_type": "markdown",
      "source": [
        "<font face=\"monospace\">\n",
        "Hope you Understood the problem as well as solution.\n",
        "<font>"
      ],
      "metadata": {
        "id": "hA_9f6YxR62C"
      }
    }
  ]
}