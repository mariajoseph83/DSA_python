{
  "nbformat": 4,
  "nbformat_minor": 0,
  "metadata": {
    "colab": {
      "provenance": [],
      "authorship_tag": "ABX9TyNFFoFzq6MAfu6H24T6U0M0",
      "include_colab_link": true
    },
    "kernelspec": {
      "name": "python3",
      "display_name": "Python 3"
    },
    "language_info": {
      "name": "python"
    }
  },
  "cells": [
    {
      "cell_type": "markdown",
      "metadata": {
        "id": "view-in-github",
        "colab_type": "text"
      },
      "source": [
        "<a href=\"https://colab.research.google.com/github/mariajoseph83/DSA_python/blob/main/Leetcode/Trees/236.%20Lowest%20Common%20Ancestor%20of%20a%20Binary%20Tree.ipynb\" target=\"_parent\"><img src=\"https://colab.research.google.com/assets/colab-badge.svg\" alt=\"Open In Colab\"/></a>"
      ]
    },
    {
      "cell_type": "markdown",
      "source": [
        "236. [Lowest Common Ancestor of a Binary Tree](https://leetcode.com/problems/lowest-common-ancestor-of-a-binary-tree/description/)"
      ],
      "metadata": {
        "id": "Dl5coCeeLydR"
      }
    },
    {
      "cell_type": "code",
      "source": [
        "# Definition for a binary tree node.\n",
        "# class TreeNode:\n",
        "#     def __init__(self, x):\n",
        "#         self.val = x\n",
        "#         self.left = None\n",
        "#         self.right = None\n",
        "\n",
        "class Solution:\n",
        "    def lowestCommonAncestor(self, root: 'TreeNode', p: 'TreeNode', q: 'TreeNode') -> 'TreeNode':\n",
        "        def dfs(node,key1,key2):\n",
        "            if node is None or node.val==key1 or node.val==key2:\n",
        "                return node\n",
        "            left=dfs(node.left,key1,key2)\n",
        "            right=dfs(node.right,key1,key2)\n",
        "            if not left:\n",
        "                return right\n",
        "            elif not right:\n",
        "                return left\n",
        "            else:\n",
        "                return node\n",
        "        return dfs(root,p.val,q.val)\n"
      ],
      "metadata": {
        "id": "XnBAOyQfL3tP"
      },
      "execution_count": null,
      "outputs": []
    },
    {
      "cell_type": "code",
      "source": [],
      "metadata": {
        "id": "LMX0HyoQ0yMT"
      },
      "execution_count": null,
      "outputs": []
    }
  ]
}