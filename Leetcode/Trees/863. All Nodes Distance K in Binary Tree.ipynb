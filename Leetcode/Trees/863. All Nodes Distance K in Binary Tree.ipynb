{
  "nbformat": 4,
  "nbformat_minor": 0,
  "metadata": {
    "colab": {
      "provenance": [],
      "authorship_tag": "ABX9TyMHCc05NZQiDQ7DaNzQGd4U",
      "include_colab_link": true
    },
    "kernelspec": {
      "name": "python3",
      "display_name": "Python 3"
    },
    "language_info": {
      "name": "python"
    }
  },
  "cells": [
    {
      "cell_type": "markdown",
      "metadata": {
        "id": "view-in-github",
        "colab_type": "text"
      },
      "source": [
        "<a href=\"https://colab.research.google.com/github/mariajoseph83/DSA_python/blob/main/Leetcode/Trees/863.%20All%20Nodes%20Distance%20K%20in%20Binary%20Tree.ipynb\" target=\"_parent\"><img src=\"https://colab.research.google.com/assets/colab-badge.svg\" alt=\"Open In Colab\"/></a>"
      ]
    },
    {
      "cell_type": "markdown",
      "source": [
        "863. [All Nodes Distance K in Binary Tree](https://leetcode.com/problems/all-nodes-distance-k-in-binary-tree/description/)"
      ],
      "metadata": {
        "id": "Dl5coCeeLydR"
      }
    },
    {
      "cell_type": "code",
      "source": [
        "# Definition for a binary tree node.\n",
        "#class TreeNode:\n",
        "    #def __init__(self, x):\n",
        "    #    self.val = x\n",
        "    #    self.left = None\n",
        "    #    self.right = None\n",
        "\n",
        "class Solution:\n",
        "    def distanceK(self, root: TreeNode, target: TreeNode, k: int) -> List[int]:\n",
        "        hashmap={root:None}\n",
        "        def BFS(root):\n",
        "            while q:\n",
        "                for i in range(len(q)):\n",
        "                    node=q.popleft()\n",
        "                    if node.val==target.val:\n",
        "                        self.t_node=node\n",
        "                    if node.left:\n",
        "                        q.append(node.left)\n",
        "                        hashmap[node.left]=node\n",
        "                    if node.right:\n",
        "                        q.append(node.right)\n",
        "                        hashmap[node.right]=node\n",
        "\n",
        "        def distance(root,k):\n",
        "            q.append(root)\n",
        "            seen=set()\n",
        "            seen.add(root)\n",
        "            for i in range(k):\n",
        "                for i in range(len(q)):\n",
        "                    root=q.popleft()\n",
        "                    if root.right and root.right not in seen:\n",
        "                        q.append(root.right)\n",
        "                        seen.add(root.right)\n",
        "                    if root.left and root.left not in seen:\n",
        "                        q.append(root.left)\n",
        "                        seen.add(root.left)\n",
        "                    if hashmap[root] and hashmap[root] not in seen:\n",
        "                        seen.add(hashmap[root])\n",
        "                        q.append(hashmap[root])\n",
        "            return q\n",
        "\n",
        "        q=deque([root])\n",
        "        BFS(root)\n",
        "        return [x.val for x in distance(self.t_node,k)]"
      ],
      "metadata": {
        "id": "XnBAOyQfL3tP"
      },
      "execution_count": null,
      "outputs": []
    },
    {
      "cell_type": "code",
      "source": [],
      "metadata": {
        "id": "LMX0HyoQ0yMT"
      },
      "execution_count": null,
      "outputs": []
    }
  ]
}