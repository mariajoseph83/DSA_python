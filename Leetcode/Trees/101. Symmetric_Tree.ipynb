{
  "nbformat": 4,
  "nbformat_minor": 0,
  "metadata": {
    "colab": {
      "provenance": [],
      "authorship_tag": "ABX9TyMGp88ceb5PqRBp0mFqv24d",
      "include_colab_link": true
    },
    "kernelspec": {
      "name": "python3",
      "display_name": "Python 3"
    },
    "language_info": {
      "name": "python"
    }
  },
  "cells": [
    {
      "cell_type": "markdown",
      "metadata": {
        "id": "view-in-github",
        "colab_type": "text"
      },
      "source": [
        "<a href=\"https://colab.research.google.com/github/mariajoseph83/DSA_python/blob/main/Leetcode/Trees/101.%20Symmetric_Tree.ipynb\" target=\"_parent\"><img src=\"https://colab.research.google.com/assets/colab-badge.svg\" alt=\"Open In Colab\"/></a>"
      ]
    },
    {
      "cell_type": "markdown",
      "source": [
        "101. [Symmetric Tree](https://leetcode.com/problems/symmetric-tree/submissions/)"
      ],
      "metadata": {
        "id": "Dl5coCeeLydR"
      }
    },
    {
      "cell_type": "code",
      "source": [
        "# Definition for a binary tree node.\n",
        "# class TreeNode:\n",
        "#     def __init__(self, val=0, left=None, right=None):\n",
        "#         self.val = val\n",
        "#         self.left = left\n",
        "#         self.right = right\n",
        "class Solution:\n",
        "    def isSymmetric(self, root: Optional[TreeNode]) -> bool:\n",
        "        def dfs(lroot,rroot):\n",
        "            if not lroot or not rroot:\n",
        "                return lroot==rroot\n",
        "            return lroot.val==rroot.val and dfs(lroot.left,rroot.right) and dfs(lroot.right,rroot.left)\n",
        "        return dfs(root.left,root.right)"
      ],
      "metadata": {
        "id": "XnBAOyQfL3tP"
      },
      "execution_count": null,
      "outputs": []
    }
  ]
}