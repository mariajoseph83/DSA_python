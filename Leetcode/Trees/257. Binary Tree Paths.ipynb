{
  "nbformat": 4,
  "nbformat_minor": 0,
  "metadata": {
    "colab": {
      "provenance": [],
      "authorship_tag": "ABX9TyM0RNFwlWx8fs2LF0I/0GGK",
      "include_colab_link": true
    },
    "kernelspec": {
      "name": "python3",
      "display_name": "Python 3"
    },
    "language_info": {
      "name": "python"
    }
  },
  "cells": [
    {
      "cell_type": "markdown",
      "metadata": {
        "id": "view-in-github",
        "colab_type": "text"
      },
      "source": [
        "<a href=\"https://colab.research.google.com/github/mariajoseph83/DSA_python/blob/main/Leetcode/Trees/257.%20Binary%20Tree%20Paths.ipynb\" target=\"_parent\"><img src=\"https://colab.research.google.com/assets/colab-badge.svg\" alt=\"Open In Colab\"/></a>"
      ]
    },
    {
      "cell_type": "markdown",
      "source": [
        "257. [Binary Tree Paths](https://leetcode.com/problems/binary-tree-paths/description/)"
      ],
      "metadata": {
        "id": "Dl5coCeeLydR"
      }
    },
    {
      "cell_type": "code",
      "source": [
        "# Definition for a binary tree node.\n",
        "# class TreeNode:\n",
        "#     def __init__(self, val=0, left=None, right=None):\n",
        "#         self.val = val\n",
        "#         self.left = left\n",
        "#         self.right = right\n",
        "class Solution:\n",
        "    def binaryTreePaths(self, root: Optional[TreeNode]) -> List[str]:\n",
        "\n",
        "        res = []\n",
        "        self.build(root, [], res)\n",
        "        return res\n",
        "\n",
        "    def build(self, node, path, res):\n",
        "        if not node:\n",
        "            return\n",
        "\n",
        "        path.append(node.val)\n",
        "        if not node.left and not node.right:\n",
        "            res.append(\"->\".join(str(val) for val in path))\n",
        "\n",
        "        self.build(node.left, path, res)\n",
        "        self.build(node.right, path, res)\n",
        "\n",
        "\n",
        "        path.pop()\n",
        "\n",
        "        return"
      ],
      "metadata": {
        "id": "XnBAOyQfL3tP"
      },
      "execution_count": null,
      "outputs": []
    },
    {
      "cell_type": "code",
      "source": [],
      "metadata": {
        "id": "LMX0HyoQ0yMT"
      },
      "execution_count": null,
      "outputs": []
    }
  ]
}