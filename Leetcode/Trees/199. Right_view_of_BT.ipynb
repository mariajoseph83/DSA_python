{
  "nbformat": 4,
  "nbformat_minor": 0,
  "metadata": {
    "colab": {
      "provenance": [],
      "authorship_tag": "ABX9TyNaGhbxc1sFBXxVwEDdeX2n",
      "include_colab_link": true
    },
    "kernelspec": {
      "name": "python3",
      "display_name": "Python 3"
    },
    "language_info": {
      "name": "python"
    }
  },
  "cells": [
    {
      "cell_type": "markdown",
      "metadata": {
        "id": "view-in-github",
        "colab_type": "text"
      },
      "source": [
        "<a href=\"https://colab.research.google.com/github/mariajoseph83/DSA_python/blob/main/Leetcode/Trees/199.%20Right_view_of_BT.ipynb\" target=\"_parent\"><img src=\"https://colab.research.google.com/assets/colab-badge.svg\" alt=\"Open In Colab\"/></a>"
      ]
    },
    {
      "cell_type": "markdown",
      "source": [
        "<font face=\"monospace\">\n",
        "\n",
        "199. Binary Tree Right Side View [link](https://leetcode.com/problems/binary-tree-right-side-view/solutions/4983252/level-order-traversal-to-get-right-view/)\n",
        "\n",
        "Given the root of a binary tree, imagine yourself standing on the right side of it, return the values of the nodes you can see ordered from top to bottom.\n",
        "\n",
        "```\n",
        "Example 1:\n",
        "Input: root = [1,2,3,null,5,null,4]\n",
        "Output: [1,3,4]\n",
        "```\n",
        "![](https://assets.leetcode.com/uploads/2021/02/14/tree.jpg)\n",
        "```\n",
        "Example 2:\n",
        "Input: root = [1,null,3]\n",
        "Output: [1,3]\n",
        "```\n",
        "```\n",
        "Example 3:\n",
        "Input: root = []\n",
        "Output: []\n",
        "```\n",
        "\n",
        "\n",
        "**Constraints:**\n",
        "\n",
        "The number of nodes in the tree is in the range [0, 100].\n",
        "\n",
        "-100 <= Node.val <= 100."
      ],
      "metadata": {
        "id": "1dgfbE4AH23O"
      }
    },
    {
      "cell_type": "code",
      "source": [
        "# Definition for a binary tree node.\n",
        "# class TreeNode:\n",
        "#     def __init__(self, val=0, left=None, right=None):\n",
        "#         self.val = val\n",
        "#         self.left = left\n",
        "#         self.right = right\n",
        "class Solution:\n",
        "    def rightSideView(self, root: Optional[TreeNode]) -> List[int]:\n",
        "        if not root:\n",
        "            return []\n",
        "        res=[]\n",
        "        queue=collections.deque()\n",
        "        queue.append(root)\n",
        "        while queue:\n",
        "            for i in range(len(queue)):\n",
        "                node=queue.popleft()\n",
        "                if node.left:\n",
        "                    queue.append(node.left)\n",
        "                if node.right:\n",
        "                    queue.append(node.right)\n",
        "            res.append(node.val)\n",
        "        return res"
      ],
      "metadata": {
        "id": "z1i10zEsInnS"
      },
      "execution_count": null,
      "outputs": []
    }
  ]
}