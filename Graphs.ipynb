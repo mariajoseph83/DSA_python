{
  "nbformat": 4,
  "nbformat_minor": 0,
  "metadata": {
    "colab": {
      "provenance": [],
      "authorship_tag": "ABX9TyNp7JT31wvuiYb0HMCQFmbn",
      "include_colab_link": true
    },
    "kernelspec": {
      "name": "python3",
      "display_name": "Python 3"
    },
    "language_info": {
      "name": "python"
    }
  },
  "cells": [
    {
      "cell_type": "markdown",
      "metadata": {
        "id": "view-in-github",
        "colab_type": "text"
      },
      "source": [
        "<a href=\"https://colab.research.google.com/github/mariajoseph83/DSA_python/blob/main/Graphs.ipynb\" target=\"_parent\"><img src=\"https://colab.research.google.com/assets/colab-badge.svg\" alt=\"Open In Colab\"/></a>"
      ]
    },
    {
      "cell_type": "markdown",
      "source": [
        "DFS for Graphs\n"
      ],
      "metadata": {
        "id": "oClI35l-TKbp"
      }
    },
    {
      "cell_type": "code",
      "source": [
        "a=[[0,0,0,0],[1,1,0,0],[0,0,0,1],[0,0,0,0]]"
      ],
      "metadata": {
        "id": "2YSi8sbZTSeu"
      },
      "execution_count": null,
      "outputs": []
    },
    {
      "cell_type": "code",
      "source": [
        "def dfs(grid,r,c,visited):\n",
        "  R,C=len(grid),len(grid[0])\n",
        "  if (min(r,c)<0 or r==R or c==C or (r,c) in visited or grid[r][c]==1):\n",
        "    return 0\n",
        "  if r==R-1 and c==C-1:\n",
        "    return 1\n",
        "  visited.add((r,c))\n",
        "  cnt=0\n",
        "  for x,y in ([1,0],[0,1],[-1,0],[0,-1]):\n",
        "    cnt+=dfs(grid,r+x,c+y,visited)\n",
        "  visited.remove((r,c))\n",
        "  return cnt"
      ],
      "metadata": {
        "id": "faBv07plTlnb"
      },
      "execution_count": null,
      "outputs": []
    },
    {
      "cell_type": "code",
      "source": [
        "dfs(a,0,0,set())"
      ],
      "metadata": {
        "colab": {
          "base_uri": "https://localhost:8080/"
        },
        "id": "3r_bj1CrUxw0",
        "outputId": "970b92ac-1c2b-4bbb-d5aa-2ef82b8830fa"
      },
      "execution_count": null,
      "outputs": [
        {
          "output_type": "execute_result",
          "data": {
            "text/plain": [
              "6"
            ]
          },
          "metadata": {},
          "execution_count": 6
        }
      ]
    },
    {
      "cell_type": "code",
      "source": [
        "from collections import deque\n",
        "def bfs(r,c,grid):\n",
        "  R=len(grid)\n",
        "  C=len(grid[0])\n",
        "  q=deque([(r,c)])\n",
        "  l=0\n",
        "  visited=set((r,c))\n",
        "  while q:\n",
        "    for i in range(len(q)):\n",
        "      r,c=q.popleft()\n",
        "      if R-1==r and C-1==c:\n",
        "         return l\n",
        "      for x,y in ([1,0],[0,1],[-1,0],[0,-1]):\n",
        "        if (min(r+x,c+y)<0 or r+x==R or c+y==C or (r+x,c+y) in visited or grid[r+x][c+y]==1):\n",
        "          continue\n",
        "        else:\n",
        "          q.append((r+x,c+y))\n",
        "          visited.add((r+x,c+y))\n",
        "    l+=1\n",
        "\n",
        "\n",
        "\n"
      ],
      "metadata": {
        "id": "xBOMV3LFU1ia"
      },
      "execution_count": null,
      "outputs": []
    },
    {
      "cell_type": "code",
      "source": [
        "bfs(0,0,a)"
      ],
      "metadata": {
        "colab": {
          "base_uri": "https://localhost:8080/"
        },
        "id": "v5UXBMLLa9hV",
        "outputId": "c9d79fef-96e2-432b-f015-753aaf36d6e3"
      },
      "execution_count": null,
      "outputs": [
        {
          "output_type": "execute_result",
          "data": {
            "text/plain": [
              "6"
            ]
          },
          "metadata": {},
          "execution_count": 40
        }
      ]
    },
    {
      "cell_type": "markdown",
      "source": [
        "BFS abd DFS on AD List\n"
      ],
      "metadata": {
        "id": "3WnxTZ3ofpXw"
      }
    },
    {
      "cell_type": "code",
      "source": [
        "edges=[['a','b'],['b','c'],['c','e'],['b','e'],['e','d']]"
      ],
      "metadata": {
        "id": "p07esrBPbDLW"
      },
      "execution_count": null,
      "outputs": []
    },
    {
      "cell_type": "code",
      "source": [
        "from collections import defaultdict"
      ],
      "metadata": {
        "id": "N3M0uFQRgiES"
      },
      "execution_count": null,
      "outputs": []
    },
    {
      "cell_type": "code",
      "source": [
        "al=defaultdict(list)\n",
        "for x,y in edges:\n",
        "  al[x].append(y)\n",
        "print(al)\n"
      ],
      "metadata": {
        "colab": {
          "base_uri": "https://localhost:8080/"
        },
        "id": "JJ0jbwq2gnVc",
        "outputId": "66fe4770-5e79-40fe-e806-191c4963e37d"
      },
      "execution_count": null,
      "outputs": [
        {
          "output_type": "stream",
          "name": "stdout",
          "text": [
            "defaultdict(<class 'list'>, {'a': ['b'], 'b': ['c', 'e'], 'c': ['e'], 'e': ['d']})\n"
          ]
        }
      ]
    },
    {
      "cell_type": "code",
      "source": [
        "def dfs(s,d,al,v):\n",
        "  if s in v:\n",
        "    return 0\n",
        "  if s==d:\n",
        "    return 1\n",
        "  v.add(s)\n",
        "  c=0\n",
        "  for i in al[s]:\n",
        "    c+=dfs(i,d,al,v)\n",
        "  v.remove(s)\n",
        "  return c"
      ],
      "metadata": {
        "id": "nijB2L_7gy7D"
      },
      "execution_count": null,
      "outputs": []
    },
    {
      "cell_type": "code",
      "source": [
        "dfs('a','d',al,set())"
      ],
      "metadata": {
        "colab": {
          "base_uri": "https://localhost:8080/"
        },
        "id": "kbgycIV_g9Vj",
        "outputId": "992bbe7f-81b4-403a-bcfe-32d32a3b5b80"
      },
      "execution_count": null,
      "outputs": [
        {
          "output_type": "execute_result",
          "data": {
            "text/plain": [
              "2"
            ]
          },
          "metadata": {},
          "execution_count": 46
        }
      ]
    },
    {
      "cell_type": "code",
      "source": [
        "def bfs(s,d,al,v):\n",
        "  q=deque([s])\n",
        "  l=0\n",
        "  while q:\n",
        "    for i in range(len(q)):\n",
        "      n=q.popleft()\n",
        "      for i in al[n]:\n",
        "        if i!=d:\n",
        "          q.append(i)\n",
        "          v.add(i)\n",
        "        else:\n",
        "          return l+1\n",
        "    l+=1"
      ],
      "metadata": {
        "id": "vIANwbZZhqAq"
      },
      "execution_count": null,
      "outputs": []
    },
    {
      "cell_type": "code",
      "source": [
        "bfs('a','d',al,set())"
      ],
      "metadata": {
        "colab": {
          "base_uri": "https://localhost:8080/"
        },
        "id": "vIyUVj8pixZm",
        "outputId": "a5f6c1db-6bb5-4f56-c113-67e8b366c86a"
      },
      "execution_count": null,
      "outputs": [
        {
          "output_type": "execute_result",
          "data": {
            "text/plain": [
              "3"
            ]
          },
          "metadata": {},
          "execution_count": 51
        }
      ]
    },
    {
      "cell_type": "code",
      "source": [],
      "metadata": {
        "id": "g46MTR-hi2uU"
      },
      "execution_count": null,
      "outputs": []
    }
  ]
}